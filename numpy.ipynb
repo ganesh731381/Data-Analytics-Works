{
 "cells": [
  {
   "cell_type": "markdown",
   "id": "5ef35788-0a8e-4ec8-800e-36a3cc973bb9",
   "metadata": {},
   "source": [
    "Numpy"
   ]
  },
  {
   "cell_type": "code",
   "execution_count": 5,
   "id": "0c110c27-ceb8-4e77-a70b-312a43bb9786",
   "metadata": {},
   "outputs": [
    {
     "name": "stdout",
     "output_type": "stream",
     "text": [
      "[1 2 3 4]\n",
      "<class 'numpy.ndarray'>\n"
     ]
    }
   ],
   "source": [
    "import numpy as np\n",
    "x = np.array([1,2,3,4])\n",
    "print(x)\n",
    "print(type(x))"
   ]
  },
  {
   "cell_type": "code",
   "execution_count": 6,
   "id": "2c210ba7-160f-447f-aa49-59407fbe1ccf",
   "metadata": {},
   "outputs": [
    {
     "name": "stdout",
     "output_type": "stream",
     "text": [
      "[1, 2, 3, 4]\n",
      "<class 'list'>\n"
     ]
    }
   ],
   "source": [
    "y = [1,2,3,4]\n",
    "print(y)\n",
    "print(type(y))"
   ]
  },
  {
   "cell_type": "code",
   "execution_count": 10,
   "id": "68ce7c56-9908-4aff-bb45-5a07474d1e8f",
   "metadata": {},
   "outputs": [
    {
     "name": "stdout",
     "output_type": "stream",
     "text": [
      "7\n"
     ]
    }
   ],
   "source": [
    "x= np.array([1,2,3,4,5])\n",
    "print(x[2]+x[3])"
   ]
  },
  {
   "cell_type": "code",
   "execution_count": 4,
   "id": "cbd21db1-2fdd-4c4d-8b49-e035938159d2",
   "metadata": {},
   "outputs": [
    {
     "name": "stdout",
     "output_type": "stream",
     "text": [
      "2\n"
     ]
    }
   ],
   "source": [
    "a= np.array([[1,2,3,4,5]])\n",
    "print(a.ndim)"
   ]
  },
  {
   "cell_type": "code",
   "execution_count": 6,
   "id": "b3d43787-935c-4b0f-a2bd-bc75662fc4a8",
   "metadata": {},
   "outputs": [
    {
     "name": "stdout",
     "output_type": "stream",
     "text": [
      "2\n",
      "[[1 2 4 5]\n",
      " [2 3 8 9]]\n"
     ]
    }
   ],
   "source": [
    "a= np.array([[1,2,4,5],[2,3,8,9]])\n",
    "print(a.ndim)\n",
    "print(a)"
   ]
  },
  {
   "cell_type": "code",
   "execution_count": 8,
   "id": "a76de280-7af9-4873-8f4f-378636eecf47",
   "metadata": {},
   "outputs": [
    {
     "name": "stdout",
     "output_type": "stream",
     "text": [
      "[[0. 0. 0. 0. 0. 0. 0.]\n",
      " [0. 0. 0. 0. 0. 0. 0.]\n",
      " [0. 0. 0. 0. 0. 0. 0.]\n",
      " [0. 0. 0. 0. 0. 0. 0.]\n",
      " [0. 0. 0. 0. 0. 0. 0.]]\n"
     ]
    }
   ],
   "source": [
    "####making array\n",
    "z= np.zeros((5,7))\n",
    "print(z)"
   ]
  },
  {
   "cell_type": "code",
   "execution_count": 9,
   "id": "18339353-7039-4661-8aff-6f63ddff9419",
   "metadata": {},
   "outputs": [
    {
     "name": "stdout",
     "output_type": "stream",
     "text": [
      "[[1. 1. 1. 1. 1. 1. 1.]\n",
      " [1. 1. 1. 1. 1. 1. 1.]\n",
      " [1. 1. 1. 1. 1. 1. 1.]\n",
      " [1. 1. 1. 1. 1. 1. 1.]\n",
      " [1. 1. 1. 1. 1. 1. 1.]]\n"
     ]
    }
   ],
   "source": [
    "z= np.ones((5,7))\n",
    "print(z)"
   ]
  },
  {
   "cell_type": "code",
   "execution_count": 22,
   "id": "dcd76c63-8117-4d1d-ad2b-8a6150cd6dc8",
   "metadata": {},
   "outputs": [
    {
     "name": "stdout",
     "output_type": "stream",
     "text": [
      "[[6. 6. 6. 6. 6. 6. 6.]\n",
      " [6. 6. 6. 6. 6. 6. 6.]\n",
      " [6. 6. 6. 6. 6. 6. 6.]\n",
      " [6. 6. 6. 6. 6. 6. 6.]\n",
      " [6. 6. 6. 6. 6. 6. 6.]]\n"
     ]
    }
   ],
   "source": [
    "z= np.full((5,7),6,dtype='float')\n",
    "print(z)"
   ]
  },
  {
   "cell_type": "code",
   "execution_count": 15,
   "id": "f3c3e4ea-b541-4d83-b8e5-62c76d0c23d6",
   "metadata": {},
   "outputs": [
    {
     "name": "stdout",
     "output_type": "stream",
     "text": [
      "[ 2  4  6  8 10 12 14]\n"
     ]
    }
   ],
   "source": [
    "r = np.arange(2,15,2)\n",
    "print(r)"
   ]
  },
  {
   "cell_type": "code",
   "execution_count": 20,
   "id": "217dc24b-a44f-46ea-8ebf-ad1a18819e21",
   "metadata": {},
   "outputs": [
    {
     "name": "stdout",
     "output_type": "stream",
     "text": [
      "[[[6. 6.]\n",
      "  [6. 6.]\n",
      "  [6. 6.]\n",
      "  [6. 6.]\n",
      "  [6. 6.]\n",
      "  [6. 6.]\n",
      "  [6. 6.]\n",
      "  [6. 6.]\n",
      "  [6. 6.]\n",
      "  [6. 6.]\n",
      "  [6. 6.]\n",
      "  [6. 6.]\n",
      "  [6. 6.]\n",
      "  [6. 6.]\n",
      "  [6. 6.]]\n",
      "\n",
      " [[6. 6.]\n",
      "  [6. 6.]\n",
      "  [6. 6.]\n",
      "  [6. 6.]\n",
      "  [6. 6.]\n",
      "  [6. 6.]\n",
      "  [6. 6.]\n",
      "  [6. 6.]\n",
      "  [6. 6.]\n",
      "  [6. 6.]\n",
      "  [6. 6.]\n",
      "  [6. 6.]\n",
      "  [6. 6.]\n",
      "  [6. 6.]\n",
      "  [6. 6.]]]\n"
     ]
    }
   ],
   "source": [
    "###indexing\n",
    "z = np.full((2,15,2),6,dtype='float')\n",
    "print(z)"
   ]
  },
  {
   "cell_type": "code",
   "execution_count": 29,
   "id": "4bc0fc4e-2157-47fe-9825-b729367d1ecd",
   "metadata": {},
   "outputs": [
    {
     "name": "stdout",
     "output_type": "stream",
     "text": [
      "3\n"
     ]
    }
   ],
   "source": [
    "###indeing\n",
    "a= np.array([[2,3],[4,5]])\n",
    "print(a[0,1])\n"
   ]
  },
  {
   "cell_type": "code",
   "execution_count": 30,
   "id": "13f8eaff-d091-4a5f-9a71-1d3b085707e8",
   "metadata": {},
   "outputs": [
    {
     "name": "stdout",
     "output_type": "stream",
     "text": [
      "[ 2  4  6  8 10 12 14]\n",
      "[ 4  8 12]\n"
     ]
    }
   ],
   "source": [
    "##slicing\n",
    "r = np.arange(2,15,2)\n",
    "print(r)\n",
    "print(r[1::2])"
   ]
  },
  {
   "cell_type": "code",
   "execution_count": 32,
   "id": "3cfd0a87-61ae-481b-95a3-aa02564c77ba",
   "metadata": {},
   "outputs": [
    {
     "name": "stdout",
     "output_type": "stream",
     "text": [
      "[4 9]\n",
      "[[ 2  4  7  9]\n",
      " [11 15  2  8]]\n"
     ]
    }
   ],
   "source": [
    "##slicing 2-D arrray\n",
    "a = np.array([[2,4,7,9],[11,15,2,8]])\n",
    "print(a[0,1::2])\n",
    "print(a)"
   ]
  },
  {
   "cell_type": "code",
   "execution_count": 33,
   "id": "1133827d-07fc-4f03-a3ff-98446d725d13",
   "metadata": {},
   "outputs": [
    {
     "name": "stdout",
     "output_type": "stream",
     "text": [
      "[[1 3 5]\n",
      " [6 4 2]\n",
      " [6 2 8]]\n"
     ]
    }
   ],
   "source": [
    "##swap columnn\n",
    "a=np.array([[5,3,1],[2,4,6],[8,2,6]])\n",
    "a[::,2::-2]=a[::,0::2]\n",
    "print(a)"
   ]
  },
  {
   "cell_type": "code",
   "execution_count": 34,
   "id": "cebec0e8-f199-456d-98e5-157d236f0335",
   "metadata": {},
   "outputs": [
    {
     "name": "stdout",
     "output_type": "stream",
     "text": [
      "[[8 3 1]\n",
      " [2 4 6]\n",
      " [8 2 6]]\n",
      "[[8 3 1]\n",
      " [2 4 6]\n",
      " [8 2 6]]\n"
     ]
    }
   ],
   "source": [
    "##view\n",
    "a=  np.array([[5,3,1],[2,4,6],[8,2,6]])\n",
    "b = a.view()\n",
    "a[0,0]=8\n",
    "print(a)\n",
    "print(b)"
   ]
  },
  {
   "cell_type": "code",
   "execution_count": 37,
   "id": "64f67b10-c709-441e-80a0-aad5c96b4e02",
   "metadata": {},
   "outputs": [
    {
     "name": "stdout",
     "output_type": "stream",
     "text": [
      "[[8 3 1]\n",
      " [2 4 6]\n",
      " [8 2 6]]\n",
      "[[5 3 1]\n",
      " [2 4 6]\n",
      " [8 2 6]]\n"
     ]
    }
   ],
   "source": [
    "##copy\n",
    "a=  np.array([[5,3,1],[2,4,6],[8,2,6]])\n",
    "b = a.copy()\n",
    "a[0,0]=8\n",
    "print(a)\n",
    "print(b)"
   ]
  },
  {
   "cell_type": "code",
   "execution_count": 43,
   "id": "5bccb559-b2cb-4235-84b1-0ed04ba767ec",
   "metadata": {},
   "outputs": [
    {
     "name": "stdout",
     "output_type": "stream",
     "text": [
      "[[ 1  3  5]\n",
      " [ 7  9 11]]\n"
     ]
    }
   ],
   "source": [
    "#reshape\n",
    "##covert 1-d to 2-d\n",
    "f = np.arange(1,13,2).reshape((2,3))\n",
    "print(f)"
   ]
  },
  {
   "cell_type": "code",
   "execution_count": 49,
   "id": "7f75c322-9432-4628-978f-0cc5e86dab1b",
   "metadata": {},
   "outputs": [
    {
     "ename": "ValueError",
     "evalue": "cannot reshape array of size 6 into shape (1,2,4)",
     "output_type": "error",
     "traceback": [
      "\u001b[1;31m---------------------------------------------------------------------------\u001b[0m",
      "\u001b[1;31mValueError\u001b[0m                                Traceback (most recent call last)",
      "Cell \u001b[1;32mIn[49], line 2\u001b[0m\n\u001b[0;32m      1\u001b[0m \u001b[38;5;66;03m#loop\u001b[39;00m\n\u001b[1;32m----> 2\u001b[0m f \u001b[38;5;241m=\u001b[39m \u001b[43mnp\u001b[49m\u001b[38;5;241;43m.\u001b[39;49m\u001b[43marange\u001b[49m\u001b[43m(\u001b[49m\u001b[38;5;241;43m1\u001b[39;49m\u001b[43m,\u001b[49m\u001b[38;5;241;43m13\u001b[39;49m\u001b[43m,\u001b[49m\u001b[38;5;241;43m2\u001b[39;49m\u001b[43m)\u001b[49m\u001b[38;5;241;43m.\u001b[39;49m\u001b[43mreshape\u001b[49m\u001b[43m(\u001b[49m\u001b[43m(\u001b[49m\u001b[38;5;241;43m1\u001b[39;49m\u001b[43m,\u001b[49m\u001b[38;5;241;43m2\u001b[39;49m\u001b[43m,\u001b[49m\u001b[38;5;241;43m4\u001b[39;49m\u001b[43m)\u001b[49m\u001b[43m)\u001b[49m\n\u001b[0;32m      3\u001b[0m \u001b[38;5;28mprint\u001b[39m(f)\n\u001b[0;32m      4\u001b[0m \u001b[38;5;28;01mfor\u001b[39;00m i \u001b[38;5;129;01min\u001b[39;00m f:\n",
      "\u001b[1;31mValueError\u001b[0m: cannot reshape array of size 6 into shape (1,2,4)"
     ]
    }
   ],
   "source": [
    "#loop\n",
    "f = np.arange(1,13,2).reshape((1,2))\n",
    "print(f)\n",
    "for i in f:\n",
    "    for j in i:\n",
    "         print(j,end=\" \")\n",
    "         print(end=\"\\n\")"
   ]
  },
  {
   "cell_type": "code",
   "execution_count": 50,
   "id": "934a6e27-6b15-41c6-8178-6c8f37002fa1",
   "metadata": {},
   "outputs": [
    {
     "name": "stdout",
     "output_type": "stream",
     "text": [
      "2\n",
      "3\n",
      "4\n",
      "9\n",
      "0\n",
      "11\n"
     ]
    }
   ],
   "source": [
    "a=np.array([[2,3,4],[9,0,11]])\n",
    "for i in np.nditer(a):\n",
    "    print(i)"
   ]
  },
  {
   "cell_type": "code",
   "execution_count": 52,
   "id": "9658f3ea-9fab-4956-bc5e-1efecf96678c",
   "metadata": {},
   "outputs": [
    {
     "name": "stdout",
     "output_type": "stream",
     "text": [
      "(0, 0) 2\n",
      "(0, 1) 3\n",
      "(0, 2) 4\n",
      "(1, 0) 9\n",
      "(1, 1) 0\n",
      "(1, 2) 11\n"
     ]
    }
   ],
   "source": [
    "a=np.array([[2,3,4],[9,0,11]])\n",
    "for idx,val in np.ndenumerate(a):\n",
    "    print(idx,val)"
   ]
  },
  {
   "cell_type": "code",
   "execution_count": 58,
   "id": "da0eda20-7f18-48eb-b3f2-dccd867ae9be",
   "metadata": {},
   "outputs": [
    {
     "name": "stdout",
     "output_type": "stream",
     "text": [
      "[[[ 2  3  4]\n",
      "  [ 9  0 11]]\n",
      "\n",
      " [[ 5  7  4]\n",
      "  [13  0 11]]]\n"
     ]
    }
   ],
   "source": [
    "##cncat two arraya  \n",
    "a= np.array([[2,3,4],[9,0,11]])\n",
    "b= np.array([[5,7,4],[13,0,11]])\n",
    "c= np.stack((a,b),axis=0)\n",
    "print(c)"
   ]
  },
  {
   "cell_type": "code",
   "execution_count": 59,
   "id": "fe4293a7-3c18-4af3-b93e-d598f75ce83e",
   "metadata": {},
   "outputs": [
    {
     "name": "stdout",
     "output_type": "stream",
     "text": [
      "[ 1  2  3  4  5  6  7  8  9  5  1 12]\n"
     ]
    }
   ],
   "source": [
    "## append\n",
    "a= np.arange(1,10)\n",
    "a= np.append(a,[5,1,12])\n",
    "print(a)"
   ]
  },
  {
   "cell_type": "code",
   "execution_count": 61,
   "id": "bb6ff84c-cf26-45b5-aa0c-b1470635c51d",
   "metadata": {},
   "outputs": [
    {
     "name": "stdout",
     "output_type": "stream",
     "text": [
      "[ 2  2  4  7  9 10 14 16 18]\n"
     ]
    }
   ],
   "source": [
    "###soting of array\n",
    "a= np.array([2,14,10,18,2,7,16,9,4])\n",
    "a = np.sort(a)\n",
    "print(a)"
   ]
  },
  {
   "cell_type": "code",
   "execution_count": 63,
   "id": "a6c0974e-dbab-4716-b304-4495bc9ef89a",
   "metadata": {},
   "outputs": [
    {
     "name": "stdout",
     "output_type": "stream",
     "text": [
      "[[ 2  0  4]\n",
      " [ 9  3 11]]\n"
     ]
    }
   ],
   "source": [
    "##2d array sorting\n",
    "a= np.array([[2,3,4],[9,0,11]])\n",
    "a= np.sort(a,axis=0)\n",
    "print(a)"
   ]
  },
  {
   "cell_type": "code",
   "execution_count": 67,
   "id": "e8e4748c-98bc-439c-94a5-ac3b13dbbb43",
   "metadata": {},
   "outputs": [
    {
     "name": "stdout",
     "output_type": "stream",
     "text": [
      "[[ 7 16 13]\n",
      " [17 10 26]]\n"
     ]
    }
   ],
   "source": [
    "#####matrix and manipulaion\n",
    "a= np.array([[2,3,4],[9,0,11]])\n",
    "b= np.array([[5,13,9],[8,10,15]])\n",
    "print(a+b)"
   ]
  },
  {
   "cell_type": "code",
   "execution_count": 68,
   "id": "90f3b257-6b92-42e1-9cf3-9571e4d56a8b",
   "metadata": {},
   "outputs": [
    {
     "name": "stdout",
     "output_type": "stream",
     "text": [
      "[[ 10  39  36]\n",
      " [ 72   0 165]]\n"
     ]
    }
   ],
   "source": [
    "a= np.array([[2,3,4],[9,0,11]])\n",
    "b= np.array([[5,13,9],[8,10,15]])\n",
    "print(a*b)"
   ]
  },
  {
   "cell_type": "code",
   "execution_count": 6,
   "id": "8c2678e8-7cfa-4550-a72d-db39da787026",
   "metadata": {},
   "outputs": [
    {
     "name": "stdout",
     "output_type": "stream",
     "text": [
      "[[ -25    2   11]\n",
      " [-110  -47   90]]\n"
     ]
    }
   ],
   "source": [
    "##cros product\n",
    "a= np.array([[2,3,4],[9,0,11]])\n",
    "b= np.array([[5,13,9],[8,10,15]])\n",
    "print(np.cross(a,b))"
   ]
  },
  {
   "cell_type": "code",
   "execution_count": 7,
   "id": "5cf3d2e0-667f-4747-85b4-9dc14eba94b3",
   "metadata": {},
   "outputs": [
    {
     "name": "stdout",
     "output_type": "stream",
     "text": [
      "[[ 2  9]\n",
      " [ 3  0]\n",
      " [ 4 11]]\n"
     ]
    }
   ],
   "source": [
    "##tranpose matrix\n",
    "a= np.array([[2,3,4],[9,0,11]])\n",
    "print(np.transpose(a))"
   ]
  },
  {
   "cell_type": "code",
   "execution_count": 11,
   "id": "0bb24176-404c-416a-980f-82b37fd49166",
   "metadata": {},
   "outputs": [
    {
     "name": "stdout",
     "output_type": "stream",
     "text": [
      "2\n"
     ]
    }
   ],
   "source": [
    "###trace\n",
    "a= np.array([[2,3,4],[9,0,11]])\n",
    "print(np.trace(a))"
   ]
  },
  {
   "cell_type": "code",
   "execution_count": null,
   "id": "fde9bc79-8b4b-4fc7-8aad-1456f9600b69",
   "metadata": {},
   "outputs": [],
   "source": [
    "###liniar algebra\n"
   ]
  },
  {
   "cell_type": "code",
   "execution_count": 12,
   "id": "92435081-bc6f-4ad3-aaf3-a623f8d2797e",
   "metadata": {},
   "outputs": [
    {
     "name": "stdout",
     "output_type": "stream",
     "text": [
      "[ 1  9 17 25 33 41 49]\n",
      "(array([5], dtype=int64),)\n"
     ]
    }
   ],
   "source": [
    "##searching - where\n",
    "a= np.arange(1,50,8)\n",
    "print(a)\n",
    "print(np.where(a==41))"
   ]
  },
  {
   "cell_type": "code",
   "execution_count": null,
   "id": "efa7d0ad-22d1-48be-8d57-6ecb0b149518",
   "metadata": {},
   "outputs": [],
   "source": [
    "##searching\n",
    "a= np.array([41,41,51])\n",
    "prinr(a)\n",
    "print(np.where(a))"
   ]
  },
  {
   "cell_type": "code",
   "execution_count": null,
   "id": "87ebc633-3ea9-4c67-9bdb-a919f588772c",
   "metadata": {},
   "outputs": [],
   "source": [
    "##string array ## np char\n",
    "a= np.array(['a','b'])\n",
    "print(a.)"
   ]
  }
 ],
 "metadata": {
  "kernelspec": {
   "display_name": "Python 3 (ipykernel)",
   "language": "python",
   "name": "python3"
  },
  "language_info": {
   "codemirror_mode": {
    "name": "ipython",
    "version": 3
   },
   "file_extension": ".py",
   "mimetype": "text/x-python",
   "name": "python",
   "nbconvert_exporter": "python",
   "pygments_lexer": "ipython3",
   "version": "3.12.1"
  }
 },
 "nbformat": 4,
 "nbformat_minor": 5
}
