{
 "cells": [
  {
   "cell_type": "code",
   "execution_count": null,
   "id": "f40d76ef-4792-4c10-ba2e-94fd15589d6f",
   "metadata": {},
   "outputs": [],
   "source": [
    "PANDAS"
   ]
  },
  {
   "cell_type": "code",
   "execution_count": null,
   "id": "d3387f02-2402-410d-ad7c-72d07cd4b9e0",
   "metadata": {},
   "outputs": [],
   "source": [
    "#pip install pandas\n",
    "#pip list\n"
   ]
  },
  {
   "cell_type": "code",
   "execution_count": 2,
   "id": "22124462-340b-4d81-a151-c005a7b14f25",
   "metadata": {},
   "outputs": [],
   "source": [
    "import pandas as pd\n"
   ]
  },
  {
   "cell_type": "code",
   "execution_count": 3,
   "id": "c6f33cdf-c963-4dd6-8e54-f2db8885b132",
   "metadata": {},
   "outputs": [
    {
     "name": "stdout",
     "output_type": "stream",
     "text": [
      "0    1\n",
      "1    2\n",
      "2    3\n",
      "3    4\n",
      "4    5\n",
      "5    6\n",
      "dtype: int64\n"
     ]
    }
   ],
   "source": [
    "l = [1,2,3,4,5,6]\n",
    "pd_sr = pd.Series(l)\n",
    "print(pd_sr)"
   ]
  },
  {
   "cell_type": "code",
   "execution_count": 21,
   "id": "17a2b614-b9bc-4ee4-91fb-623bcfda7b53",
   "metadata": {},
   "outputs": [
    {
     "name": "stdout",
     "output_type": "stream",
     "text": [
      "ram      15\n",
      "shyam    14\n",
      "geeta    12\n",
      "dtype: int64\n"
     ]
    }
   ],
   "source": [
    "d = {\"ram\":15,\"shyam\":14,\"geeta\":12}\n",
    "sr = pd.Series(d)\n",
    "print(sr)"
   ]
  },
  {
   "cell_type": "code",
   "execution_count": null,
   "id": "88fba8ce-76ff-4005-be4d-03f0d8065909",
   "metadata": {},
   "outputs": [],
   "source": [
    "#tail"
   ]
  },
  {
   "cell_type": "code",
   "execution_count": null,
   "id": "f6ccbf69-fd55-4c2d-b390-ed063e421082",
   "metadata": {},
   "outputs": [],
   "source": []
  },
  {
   "cell_type": "code",
   "execution_count": 22,
   "id": "277c2fec-ab09-4fb6-8650-391e5fe72035",
   "metadata": {},
   "outputs": [
    {
     "name": "stdout",
     "output_type": "stream",
     "text": [
      "   ram  shyam  gita\n",
      "0   15     14    12\n",
      "1   15     14    12\n"
     ]
    }
   ],
   "source": [
    "##data frame\n",
    "l = [{\"ram\":15,\"shyam\":14,\"gita\":12},{\"ram\":15,\"shyam\":14,\"gita\":12}]\n",
    "df =pd.DataFrame(l)\n",
    "print(df)"
   ]
  },
  {
   "cell_type": "code",
   "execution_count": 24,
   "id": "29e769b5-b644-4af4-826a-9263b48746cd",
   "metadata": {},
   "outputs": [
    {
     "name": "stdout",
     "output_type": "stream",
     "text": [
      "   Name  age\n",
      "0  gita    1\n",
      "1  sita    2\n"
     ]
    }
   ],
   "source": [
    "l = {\"Name\":[\"gita\",\"sita\"],\"age\":[1,2]}\n",
    "df= pd.DataFrame(l,columns=[\"Name\",\"age\"])\n",
    "print(df)"
   ]
  },
  {
   "cell_type": "code",
   "execution_count": 28,
   "id": "7a63dae1-23f2-402c-a38f-a79630f397a9",
   "metadata": {},
   "outputs": [
    {
     "name": "stdout",
     "output_type": "stream",
     "text": [
      "   Name  age\n",
      "0  Sita   12\n",
      "1  Gita   14\n",
      "2   Ram   18\n"
     ]
    }
   ],
   "source": [
    "l = [[\"Sita\",12],[\"Gita\",14],[\"Ram\",18]]\n",
    "df= pd.DataFrame(l,columns=[\"Name\",\"age\"])\n",
    "print(df.head())"
   ]
  },
  {
   "cell_type": "code",
   "execution_count": 8,
   "id": "e72ad084-00cf-4ddc-b4b9-166e78801d4c",
   "metadata": {},
   "outputs": [
    {
     "name": "stdout",
     "output_type": "stream",
     "text": [
      "                 S NO. First Name Last Name                DOJ  Sal -Jan  \\\n",
      "0   alrady describtion        NaN       NaN                NaN       NaN   \n",
      "1                  NaN        NaN       NaN                NaN       NaN   \n",
      "2                  NaN        NaN       NaN                NaN       NaN   \n",
      "3                    1        Ram   Chuahan    26 January 2015    1500.0   \n",
      "4                    2      Gopal     Singh     07 August 2017    1700.0   \n",
      "5                    3      Manoj    Kumar       08 March 2012    1800.0   \n",
      "6                    4       Ramu    Singh     29 October 2018    1200.0   \n",
      "7                    5     Ramesh     Yadav  03 September 2020    2000.0   \n",
      "8                  NaN        NaN       NaN                NaN       NaN   \n",
      "9                  NaN        NaN       NaN                NaN       NaN   \n",
      "10                 NaN        NaN       NaN                NaN       NaN   \n",
      "11                 NaN        NaN       NaN                NaN       NaN   \n",
      "12                 NaN        NaN       NaN                NaN       NaN   \n",
      "13                 NaN        NaN       NaN                NaN       NaN   \n",
      "14                 NaN        NaN       NaN                NaN       NaN   \n",
      "\n",
      "    Sal-Feb  Sal-Mar  Sal Total  Avg Sal     Full Name  \n",
      "0       NaN      NaN        NaN      NaN           NaN  \n",
      "1       NaN      NaN        NaN      NaN           NaN  \n",
      "2       NaN      NaN        NaN      NaN           NaN  \n",
      "3    1200.0   1500.0     4200.0   1400.0    RamChuahan  \n",
      "4    1800.0   2000.0     5500.0   1833.0    GopalSingh  \n",
      "5    1500.0   1900.0     5200.0   1733.0  Manoj Kumar   \n",
      "6    1500.0   1800.0     4500.0   1500.0    RamuSingh   \n",
      "7    2500.0   2900.0     7400.0   2467.0   RameshYadav  \n",
      "8       NaN      NaN        NaN      NaN           NaN  \n",
      "9       NaN      NaN        NaN      NaN           NaN  \n",
      "10      NaN      NaN        NaN      NaN           NaN  \n",
      "11      NaN      NaN        NaN      NaN           NaN  \n",
      "12      NaN      NaN        NaN      NaN           NaN  \n",
      "13      NaN      NaN        NaN      NaN           NaN  \n",
      "14      NaN      NaN        NaN      NaN           NaN  \n"
     ]
    }
   ],
   "source": [
    "##reading csv file\n",
    "file = pd.read_csv(r\"C:\\Users\\91638\\Documents\\data.csv\")\n",
    "print(file)"
   ]
  },
  {
   "cell_type": "code",
   "execution_count": 5,
   "id": "265cf9a5-333d-4b57-a49b-c2619c3ac750",
   "metadata": {},
   "outputs": [
    {
     "name": "stdout",
     "output_type": "stream",
     "text": [
      "   ram  shyam  geeta\n",
      "0   15     14     12\n",
      "1   15     14     18\n",
      "   rohan  sohan  geeta\n",
      "0     13     20     12\n",
      "1     20     24     12\n",
      "   ram  shyam  geeta  rohan  sohan\n",
      "0   15     14     12     13     20\n",
      "1   15     14     12     20     24\n"
     ]
    }
   ],
   "source": [
    "df1= pd.DataFrame([{\"ram\":15,\"shyam\":14,\"geeta\":12},{\"ram\":15,\"shyam\":14,\"geeta\":18}])\n",
    "df2= pd.DataFrame([{\"rohan\":13,\"sohan\":20,\"geeta\":12},{\"rohan\":20,\"sohan\":24,\"geeta\":12}])\n",
    "print(df1)\n",
    "print(df2)\n",
    "m =pd.merge(df1,df2,on='geeta',how='inner')\n",
    "print(m)"
   ]
  },
  {
   "cell_type": "code",
   "execution_count": 7,
   "id": "9bd5e457-8490-46cb-8946-3e77b7dd44ea",
   "metadata": {},
   "outputs": [
    {
     "name": "stdout",
     "output_type": "stream",
     "text": [
      "   ram  shyam  geeta\n",
      "0   15     14     12\n",
      "1   15     14     18\n",
      "   rohan  sohan  geeta\n",
      "0     13     20     12\n",
      "1     20     24     12\n",
      "   ram  shyam  geeta  rohan  sohan\n",
      "0   15     14     12   13.0   20.0\n",
      "1   15     14     12   20.0   24.0\n",
      "2   15     14     18    NaN    NaN\n"
     ]
    }
   ],
   "source": [
    "df1= pd.DataFrame([{\"ram\":15,\"shyam\":14,\"geeta\":12},{\"ram\":15,\"shyam\":14,\"geeta\":18}])\n",
    "df2= pd.DataFrame([{\"rohan\":13,\"sohan\":20,\"geeta\":12},{\"rohan\":20,\"sohan\":24,\"geeta\":12}])\n",
    "print(df1)\n",
    "print(df2)\n",
    "m =pd.merge(df1,df2,on='geeta',how='outer')\n",
    "print(m)"
   ]
  },
  {
   "cell_type": "code",
   "execution_count": 8,
   "id": "3fbe766f-3c65-4906-966d-0cb5835a2113",
   "metadata": {},
   "outputs": [
    {
     "name": "stdout",
     "output_type": "stream",
     "text": [
      "   ram  shyam  geeta\n",
      "0   15     14     12\n",
      "1   15     14     18\n",
      "   rohan  sohan  geeta\n",
      "0     13     20     12\n",
      "1     20     24     12\n",
      "   ram  shyam  geeta  rohan  sohan\n",
      "0   15     14     12     13     20\n",
      "1   15     14     12     20     24\n"
     ]
    }
   ],
   "source": [
    "df1= pd.DataFrame([{\"ram\":15,\"shyam\":14,\"geeta\":12},{\"ram\":15,\"shyam\":14,\"geeta\":18}])\n",
    "df2= pd.DataFrame([{\"rohan\":13,\"sohan\":20,\"geeta\":12},{\"rohan\":20,\"sohan\":24,\"geeta\":12}])\n",
    "print(df1)\n",
    "print(df2)\n",
    "m =pd.merge(df1,df2,on='geeta',how='right')\n",
    "print(m)"
   ]
  },
  {
   "cell_type": "code",
   "execution_count": 9,
   "id": "53c3e975-2eb1-43a3-8472-45e51b97ee12",
   "metadata": {},
   "outputs": [
    {
     "name": "stdout",
     "output_type": "stream",
     "text": [
      "   ram  shyam  geeta\n",
      "0   15     14     12\n",
      "1   15     14     18\n",
      "   rohan  sohan  geeta\n",
      "0     13     20     12\n",
      "1     20     24     20\n",
      "    ram  shyam  geeta  rohan  sohan\n",
      "0  15.0   14.0     12     13     20\n",
      "1   NaN    NaN     20     20     24\n"
     ]
    }
   ],
   "source": [
    "df1= pd.DataFrame([{\"ram\":15,\"shyam\":14,\"geeta\":12},{\"ram\":15,\"shyam\":14,\"geeta\":18}])\n",
    "df2= pd.DataFrame([{\"rohan\":13,\"sohan\":20,\"geeta\":12},{\"rohan\":20,\"sohan\":24,\"geeta\":20}])\n",
    "print(df1)\n",
    "print(df2)\n",
    "m =pd.merge(df1,df2,on='geeta',how='right')\n",
    "print(m)"
   ]
  },
  {
   "cell_type": "code",
   "execution_count": 10,
   "id": "2726eb2e-6006-41f2-8069-1e86ecd6311e",
   "metadata": {},
   "outputs": [
    {
     "name": "stdout",
     "output_type": "stream",
     "text": [
      "   ram  shyam  geeta\n",
      "0   15     14     12\n",
      "1   15     14     18\n",
      "   rohan  sohan  geeta\n",
      "0     13     20     12\n",
      "1     20     24     12\n",
      "   ram  shyam  geeta  rohan  sohan\n",
      "0   15     14     12   13.0   20.0\n",
      "1   15     14     12   20.0   24.0\n",
      "2   15     14     18    NaN    NaN\n"
     ]
    }
   ],
   "source": [
    "df1= pd.DataFrame([{\"ram\":15,\"shyam\":14,\"geeta\":12},{\"ram\":15,\"shyam\":14,\"geeta\":18}])\n",
    "df2= pd.DataFrame([{\"rohan\":13,\"sohan\":20,\"geeta\":12},{\"rohan\":20,\"sohan\":24,\"geeta\":12}])\n",
    "print(df1)\n",
    "print(df2)\n",
    "m =pd.merge(df1,df2,on='geeta',how='left')\n",
    "print(m)"
   ]
  },
  {
   "cell_type": "code",
   "execution_count": 15,
   "id": "5b45c5cc-b578-4e4a-8350-c39f4c9b2c56",
   "metadata": {},
   "outputs": [
    {
     "ename": "TypeError",
     "evalue": "'method' object is not iterable",
     "output_type": "error",
     "traceback": [
      "\u001b[1;31m---------------------------------------------------------------------------\u001b[0m",
      "\u001b[1;31mTypeError\u001b[0m                                 Traceback (most recent call last)",
      "Cell \u001b[1;32mIn[15], line 3\u001b[0m\n\u001b[0;32m      1\u001b[0m csv\u001b[38;5;241m=\u001b[39m pd\u001b[38;5;241m.\u001b[39mread_csv(\u001b[38;5;124mr\u001b[39m\u001b[38;5;124m\"\u001b[39m\u001b[38;5;124mC:\u001b[39m\u001b[38;5;124m\\\u001b[39m\u001b[38;5;124mUsers\u001b[39m\u001b[38;5;124m\\\u001b[39m\u001b[38;5;124m91638\u001b[39m\u001b[38;5;124m\\\u001b[39m\u001b[38;5;124mDocuments\u001b[39m\u001b[38;5;124m\\\u001b[39m\u001b[38;5;124mdata.csv\u001b[39m\u001b[38;5;124m\"\u001b[39m)\n\u001b[0;32m      2\u001b[0m df \u001b[38;5;241m=\u001b[39m csv\u001b[38;5;241m.\u001b[39mmean\n\u001b[1;32m----> 3\u001b[0m data \u001b[38;5;241m=\u001b[39m \u001b[38;5;28;43mdict\u001b[39;49m\u001b[43m(\u001b[49m\u001b[43mdf\u001b[49m\u001b[43m)\u001b[49m\n\u001b[0;32m      4\u001b[0m col\u001b[38;5;241m=\u001b[39m \u001b[38;5;28mlist\u001b[39m(data\u001b[38;5;241m.\u001b[39mkeys())\n\u001b[0;32m      5\u001b[0m val\u001b[38;5;241m=\u001b[39m \u001b[38;5;28mlist\u001b[39m(data\u001b[38;5;241m.\u001b[39mvalue())\n",
      "\u001b[1;31mTypeError\u001b[0m: 'method' object is not iterable"
     ]
    }
   ],
   "source": [
    "csv= pd.read_csv(r\"C:\\Users\\91638\\Documents\\data.csv\")\n",
    "df = csv.mean\n",
    "data = dict(df)\n",
    "col= list(data.keys())\n",
    "val= list(data.value())\n",
    "print(col,val)\n",
    "plt.plot(cooll,val,marker=\"D\")\n",
    "plot.show()"
   ]
  },
  {
   "cell_type": "code",
   "execution_count": null,
   "id": "16e0de8d-47fa-457f-aee6-7d5b72b1bace",
   "metadata": {},
   "outputs": [],
   "source": []
  }
 ],
 "metadata": {
  "kernelspec": {
   "display_name": "Python 3 (ipykernel)",
   "language": "python",
   "name": "python3"
  },
  "language_info": {
   "codemirror_mode": {
    "name": "ipython",
    "version": 3
   },
   "file_extension": ".py",
   "mimetype": "text/x-python",
   "name": "python",
   "nbconvert_exporter": "python",
   "pygments_lexer": "ipython3",
   "version": "3.12.1"
  }
 },
 "nbformat": 4,
 "nbformat_minor": 5
}
