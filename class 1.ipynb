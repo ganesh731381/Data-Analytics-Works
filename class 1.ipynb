{
 "cells": [
  {
   "cell_type": "code",
   "execution_count": 1,
   "id": "45eee1bb-8a01-4bed-8fde-ffb1185d0095",
   "metadata": {},
   "outputs": [
    {
     "name": "stdout",
     "output_type": "stream",
     "text": [
      "hello world\n"
     ]
    }
   ],
   "source": [
    "print(\"hello world\")"
   ]
  },
  {
   "cell_type": "code",
   "execution_count": 9,
   "id": "10dd7fba-5947-49ad-bedd-277b1cc1b7bc",
   "metadata": {},
   "outputs": [
    {
     "name": "stdin",
     "output_type": "stream",
     "text": [
      "enter a number 5\n",
      "enter another number 6\n"
     ]
    },
    {
     "name": "stdout",
     "output_type": "stream",
     "text": [
      "30\n"
     ]
    }
   ],
   "source": [
    "# taking input in python\n",
    "a = int(input(\"enter a number\"))\n",
    "b = int(input(\"enter another number\"))     \n",
    "print(a*b)      "
   ]
  },
  {
   "cell_type": "code",
   "execution_count": 12,
   "id": "4ae7a6e3-0311-4240-93fa-cad5f01db647",
   "metadata": {},
   "outputs": [
    {
     "name": "stdout",
     "output_type": "stream",
     "text": [
      "1.333333333333333\n"
     ]
    }
   ],
   "source": [
    "a= 5-3*6//2+8/6*4\n",
    "print(a)"
   ]
  },
  {
   "cell_type": "code",
   "execution_count": 13,
   "id": "0f3715e7-ca08-4a87-8de9-2a0103564770",
   "metadata": {},
   "outputs": [
    {
     "name": "stdout",
     "output_type": "stream",
     "text": [
      "1.333333333333333\n"
     ]
    }
   ],
   "source": [
    "8/6*(4-8)//(5+9)*6\n",
    "print(a)"
   ]
  },
  {
   "cell_type": "code",
   "execution_count": 1,
   "id": "9facbe9a-656d-446a-bc90-13298d8fd757",
   "metadata": {},
   "outputs": [
    {
     "data": {
      "text/plain": [
       "59.66666666666667"
      ]
     },
     "execution_count": 1,
     "metadata": {},
     "output_type": "execute_result"
    }
   ],
   "source": [
    "6**2-8/3*8+5*9"
   ]
  },
  {
   "cell_type": "code",
   "execution_count": 11,
   "id": "7c4edf90-c90f-4ba3-973c-17e6d949581f",
   "metadata": {},
   "outputs": [
    {
     "name": "stdin",
     "output_type": "stream",
     "text": [
      "base 7\n",
      "hight 5\n"
     ]
    },
    {
     "name": "stdout",
     "output_type": "stream",
     "text": [
      "area of triangle= 17.5\n"
     ]
    }
   ],
   "source": [
    "# fint area of triangle\n",
    "b = int(input(\"base\"))\n",
    "h = int(input(\"hight\"))\n",
    "print(\"area of triangle=\",1/2*b*h)"
   ]
  },
  {
   "cell_type": "code",
   "execution_count": 10,
   "id": "757bfe38-9eca-4a60-b277-8a8029f53e90",
   "metadata": {},
   "outputs": [
    {
     "name": "stdin",
     "output_type": "stream",
     "text": [
      "base 7\n",
      "hight 5\n"
     ]
    },
    {
     "name": "stdout",
     "output_type": "stream",
     "text": [
      "area of triangle= 0\n"
     ]
    }
   ],
   "source": [
    "b = int(input(\"base\"))\n",
    "h = int(input(\"hight\"))\n",
    "print(\"area of triangle=\",1//2*b*h)"
   ]
  },
  {
   "cell_type": "code",
   "execution_count": 12,
   "id": "bea32300-6032-4aff-8b27-f5c051ce8eb0",
   "metadata": {},
   "outputs": [
    {
     "name": "stdin",
     "output_type": "stream",
     "text": [
      "base 7\n",
      "hight 5\n"
     ]
    },
    {
     "name": "stdout",
     "output_type": "stream",
     "text": [
      "area of triangle= 17\n"
     ]
    }
   ],
   "source": [
    "b = int(input(\"base\"))\n",
    "h = int(input(\"hight\"))\n",
    "print(\"area of triangle=\",b*h//2)"
   ]
  },
  {
   "cell_type": "code",
   "execution_count": 15,
   "id": "12cde729-574c-4de9-9707-6d8507c05674",
   "metadata": {},
   "outputs": [
    {
     "name": "stdin",
     "output_type": "stream",
     "text": [
      "enter the principal 1800\n",
      "enter the rate 12\n",
      "enter the time 5\n"
     ]
    },
    {
     "name": "stdout",
     "output_type": "stream",
     "text": [
      "simple interest 1080.0\n"
     ]
    }
   ],
   "source": [
    "# find simple interest\n",
    "p = int(input(\"enter the principal\"))\n",
    "r = int(input(\"enter the rate\"))\n",
    "t = int(input(\"enter the time\"))\n",
    "print(\"simple interest\",p*r*t/100)"
   ]
  },
  {
   "cell_type": "code",
   "execution_count": 16,
   "id": "3c925c14-f4d0-410a-bf93-c82f50636702",
   "metadata": {},
   "outputs": [
    {
     "name": "stdin",
     "output_type": "stream",
     "text": [
      "base 5\n",
      "hight 7\n"
     ]
    },
    {
     "name": "stdout",
     "output_type": "stream",
     "text": [
      "area of triangle= 17 area of triangle= 17&"
     ]
    }
   ],
   "source": []
  },
  {
   "cell_type": "code",
   "execution_count": 18,
   "id": "3794aab5-e1a0-442b-a502-e94f696dd819",
   "metadata": {},
   "outputs": [
    {
     "name": "stdout",
     "output_type": "stream",
     "text": [
      "welcome to coding blocks \n",
      "         data analytics course \n",
      "         \n",
      "abc\n",
      "def\n",
      "ganesh\tkaif\n"
     ]
    }
   ],
   "source": [
    " a = \"\"\"welcome to coding blocks \n",
    "          data analytics course \n",
    "          \"\"\"\n",
    "print(a)\n",
    "# escape sequence \n",
    "b = \"abc\\ndef\"\n",
    "c= \"ganesh\\tkaif\"\n",
    "print(b)\n",
    "print(c)"
   ]
  },
  {
   "cell_type": "code",
   "execution_count": 19,
   "id": "90cd362f-cba2-49ea-8dbc-57603d798a08",
   "metadata": {},
   "outputs": [
    {
     "name": "stdin",
     "output_type": "stream",
     "text": [
      "enter the number 5\n"
     ]
    },
    {
     "name": "stdout",
     "output_type": "stream",
     "text": [
      "not multiple of three\n"
     ]
    }
   ],
   "source": [
    "a = int(input(\"enter the number\"))\n",
    "if(a/3==0):\n",
    "    print(\"multiple of three\")\n",
    "else:\n",
    "    print(\"not multiple of three\")"
   ]
  },
  {
   "cell_type": "code",
   "execution_count": 20,
   "id": "b2ae5367-8803-4f4d-b8c0-1c528351f8a3",
   "metadata": {},
   "outputs": [
    {
     "name": "stdin",
     "output_type": "stream",
     "text": [
      "enter the marks 65\n"
     ]
    },
    {
     "name": "stdout",
     "output_type": "stream",
     "text": [
      "C\n"
     ]
    }
   ],
   "source": [
    "# multiple condition\n",
    "marks = int(input(\"enter the marks\"))\n",
    "if(marks>=90):\n",
    "    print(\"A+\")\n",
    "elif(marks>=85):\n",
    "    print(\"A\")\n",
    "elif(marks>=75):\n",
    "    print(\"B\")\n",
    "elif(marks>=65):\n",
    "    print(\"C\")\n",
    "else:\n",
    "    print(\"fail\")"
   ]
  },
  {
   "cell_type": "code",
   "execution_count": 23,
   "id": "cc8b18c6-8fed-483c-b999-ef8ff0da6be7",
   "metadata": {},
   "outputs": [
    {
     "name": "stdin",
     "output_type": "stream",
     "text": [
      "enter a number 48\n",
      "enter a number 75\n",
      "enter a number 12\n"
     ]
    },
    {
     "name": "stdout",
     "output_type": "stream",
     "text": [
      "75\n"
     ]
    }
   ],
   "source": [
    "a = int(input(\"enter a number\")) \n",
    "b = int(input(\"enter a number\")) \n",
    "c = int(input(\"enter a number\")) \n",
    "if(a>=b and a>=c):\n",
    "    print(a)\n",
    "elif(b>=a and b>=c):\n",
    "    print(b)\n",
    "else:\n",
    "    print(c)"
   ]
  },
  {
   "cell_type": "code",
   "execution_count": 27,
   "id": "35d303b2-8f11-44dd-bab5-e0fa83a68e7a",
   "metadata": {},
   "outputs": [
    {
     "name": "stdin",
     "output_type": "stream",
     "text": [
      "enter a number 8\n",
      "enter a number 16\n",
      "enter a number 2\n"
     ]
    },
    {
     "name": "stdout",
     "output_type": "stream",
     "text": [
      "16\n"
     ]
    }
   ],
   "source": [
    "a = int(input(\"enter a number\")) \n",
    "b = int(input(\"enter a number\")) \n",
    "c = int(input(\"enter a number\")) \n",
    "if(a==b*c):\n",
    "    print(a)\n",
    "elif(b==a*c):\n",
    "    print(b)\n",
    "elif(c==a*b):\n",
    "    print(c)\n",
    "else:\n",
    "    print(\"no anyone\")"
   ]
  },
  {
   "cell_type": "code",
   "execution_count": 28,
   "id": "a7d6f499-713b-4704-b868-8e51de6fd4f8",
   "metadata": {},
   "outputs": [
    {
     "name": "stdin",
     "output_type": "stream",
     "text": [
      "enter a num 2\n"
     ]
    },
    {
     "name": "stdout",
     "output_type": "stream",
     "text": [
      "2\n",
      "3\n",
      "4\n",
      "5\n",
      "6\n",
      "7\n",
      "8\n",
      "9\n",
      "10\n"
     ]
    }
   ],
   "source": [
    "#while loop statement\n",
    "count = int(input(\"enter a num\"))\n",
    "while(count<=10):\n",
    "    print(count)\n",
    "    count+=1"
   ]
  },
  {
   "cell_type": "code",
   "execution_count": 31,
   "id": "4d21d180-c18e-4baf-9bfa-378926f9a5db",
   "metadata": {},
   "outputs": [
    {
     "name": "stdin",
     "output_type": "stream",
     "text": [
      "enter a num 2\n"
     ]
    },
    {
     "name": "stdout",
     "output_type": "stream",
     "text": [
      "2\n",
      "4\n",
      "6\n",
      "8\n",
      "10\n",
      "12\n",
      "14\n",
      "16\n",
      "18\n",
      "20\n"
     ]
    }
   ],
   "source": [
    "count = int(input(\"enter a num\"))\n",
    "while(count<=20):\n",
    "     print(count)\n",
    "     count+=2"
   ]
  },
  {
   "cell_type": "markdown",
   "id": "6f5346d3-e749-46b7-9370-1fb2020b802d",
   "metadata": {},
   "source": [
    "a = int(input(\"enter a number\")) \n",
    "b = int(input(\"enter a number\")) \n",
    "c = int(input(\"enter a number\")) \n",
    "if (a>=b and a >=c):\n",
    "elif(b>=a and b>=c):\n",
    "print(b)\n",
    "else:\n",
    "print(c)\n",
    "\n"
   ]
  },
  {
   "cell_type": "code",
   "execution_count": 8,
   "id": "77f3c9d7-b24e-4aad-9eca-7cc5691ac7f9",
   "metadata": {},
   "outputs": [
    {
     "name": "stdout",
     "output_type": "stream",
     "text": [
      "0\n"
     ]
    }
   ],
   "source": [
    "#modulous\n",
    "a =12\n",
    "b=3\n",
    "print(a%b)"
   ]
  },
  {
   "cell_type": "code",
   "execution_count": 9,
   "id": "67018b3f-ed7a-48d4-a693-5c85b87ab9c2",
   "metadata": {},
   "outputs": [
    {
     "name": "stdout",
     "output_type": "stream",
     "text": [
      "1\n"
     ]
    }
   ],
   "source": [
    "a =16\n",
    "b =5\n",
    "print(a%b)"
   ]
  },
  {
   "cell_type": "code",
   "execution_count": 1,
   "id": "8cbd744b-1f0f-4b8d-a78a-8cbf9a5af7cd",
   "metadata": {},
   "outputs": [
    {
     "name": "stdin",
     "output_type": "stream",
     "text": [
      "enter a number 475868\n"
     ]
    },
    {
     "name": "stdout",
     "output_type": "stream",
     "text": [
      "6\n"
     ]
    }
   ],
   "source": [
    "#COUNT THE NUMBER\n",
    "n= int(input(\"enter a number\"))\n",
    "count=0\n",
    "while(n>0):\n",
    "    count +=1 \n",
    "    n=n//10\n",
    "print(count)\n",
    "\n",
    "\n",
    "\n",
    "\n",
    "\n",
    "\n",
    "\n",
    "\n",
    "\n",
    "    \n",
    "\n"
   ]
  },
  {
   "cell_type": "code",
   "execution_count": 4,
   "id": "eb90464b-55f1-467f-b5e4-9a857c225776",
   "metadata": {},
   "outputs": [
    {
     "name": "stdin",
     "output_type": "stream",
     "text": [
      "enter a number 30467\n"
     ]
    },
    {
     "name": "stdout",
     "output_type": "stream",
     "text": [
      "76403\n"
     ]
    }
   ],
   "source": [
    "#REVERSE THE NUMBER\n",
    "n=int(input(\"enter a number\"))\n",
    "rev=0\n",
    "while(n>0):\n",
    "  rem = n%10\n",
    "  n=n//10\n",
    "  rev=rev*10+rem\n",
    "print(rev)\n",
    "\n",
    "  \n"
   ]
  },
  {
   "cell_type": "code",
   "execution_count": 7,
   "id": "6d075616-3158-4438-8062-2e683eb55f65",
   "metadata": {},
   "outputs": [
    {
     "name": "stdout",
     "output_type": "stream",
     "text": [
      "20 10\n"
     ]
    }
   ],
   "source": [
    "a=10\n",
    "b=20\n",
    "#swap1\n",
    "c=a\n",
    "a=b\n",
    "b=c\n",
    "print(a,b)"
   ]
  },
  {
   "cell_type": "code",
   "execution_count": 9,
   "id": "1125a374-4857-4448-8849-e2d6c4c4794a",
   "metadata": {},
   "outputs": [
    {
     "name": "stdout",
     "output_type": "stream",
     "text": [
      "* \n",
      "* * \n",
      "* * * \n",
      "* * * * \n"
     ]
    }
   ],
   "source": [
    "r=1 \n",
    "c=1\n",
    "while(r<=4):\n",
    "    c=1\n",
    "    while(c<=r):\n",
    "        print(\"*\",end=\" \")\n",
    "        c+=1\n",
    "    r+=1\n",
    "    print()\n",
    "        \n",
    "        "
   ]
  },
  {
   "cell_type": "code",
   "execution_count": 2,
   "id": "765c83d3-b45c-429e-ac4f-bf578421e810",
   "metadata": {},
   "outputs": [
    {
     "name": "stdout",
     "output_type": "stream",
     "text": [
      "    * \n",
      "   * * \n",
      "  * * * \n",
      " * * * * \n",
      "* * * * * \n"
     ]
    }
   ],
   "source": [
    "r=1 \n",
    "c=1\n",
    "while(r<=5):\n",
    "    space=1\n",
    "    while(space<= 5-r):\n",
    "        print(\" \",end=\"\")\n",
    "        space+=1\n",
    "    c=1\n",
    "    while(c<=r):\n",
    "       print(\"*\",end=\" \")\n",
    "       c+=1\n",
    "    print()\n",
    "    r+=1\n",
    "        "
   ]
  },
  {
   "cell_type": "code",
   "execution_count": 9,
   "id": "d55147e5-6a63-411d-8a0f-24b5e1de02f3",
   "metadata": {},
   "outputs": [
    {
     "name": "stdout",
     "output_type": "stream",
     "text": [
      "\n",
      "* \n",
      "* * \n",
      "* * * \n",
      "* * * * \n",
      "* * * * * \n"
     ]
    }
   ],
   "source": [
    "for r in range(6):\n",
    "    for c in range(r):\n",
    "        print(\"*\",end=\" \")\n",
    "    print()\n",
    "        \n",
    "        \n",
    "\n"
   ]
  },
  {
   "cell_type": "code",
   "execution_count": 6,
   "id": "659c55d6-ce61-42fc-a5e5-1380551bab5a",
   "metadata": {},
   "outputs": [
    {
     "name": "stdin",
     "output_type": "stream",
     "text": [
      "enter a number 14\n"
     ]
    },
    {
     "name": "stdout",
     "output_type": "stream",
     "text": [
      "not primr\n"
     ]
    }
   ],
   "source": [
    "#prime number\n",
    "n= int(input(\"enter a number\"))\n",
    "f=0\n",
    "for i in range(2,n):\n",
    "    if(n%i==0):\n",
    "        f=1\n",
    "        print(\"not primr\")\n",
    "        break\n",
    "if(f==0):\n",
    "    print(\"prime\")\n",
    "\n"
   ]
  },
  {
   "cell_type": "code",
   "execution_count": 11,
   "id": "568dee0b-caca-48e1-a4bc-c476c603e2e9",
   "metadata": {},
   "outputs": [
    {
     "name": "stdout",
     "output_type": "stream",
     "text": [
      "5\n",
      "17\n"
     ]
    }
   ],
   "source": [
    "def add(a,b,c=0):\n",
    "    return a+b+c\n",
    "print(add(2,3))\n",
    "print(add(5,8,4))\n",
    "    "
   ]
  },
  {
   "cell_type": "code",
   "execution_count": 15,
   "id": "2737b6d3-a259-4b16-a4f3-9933d89b0dc0",
   "metadata": {},
   "outputs": [
    {
     "name": "stdout",
     "output_type": "stream",
     "text": [
      "13\n"
     ]
    }
   ],
   "source": [
    "def largestofthree(a,b,c=0):\n",
    "    if(a>=b and a>=c):\n",
    "      return a\n",
    "    elif (b>=a and b>=c):\n",
    "      return b\n",
    "    else:\n",
    "      return c\n",
    "print(largestofthree(2,8,13))\n"
   ]
  },
  {
   "cell_type": "code",
   "execution_count": 5,
   "id": "41a376ef-7167-4f9a-93ad-491c74291baa",
   "metadata": {},
   "outputs": [
    {
     "name": "stdin",
     "output_type": "stream",
     "text": [
      "enter a number 55\n"
     ]
    },
    {
     "name": "stdout",
     "output_type": "stream",
     "text": [
      "not multiple of three\n"
     ]
    }
   ],
   "source": [
    "#multiple of three\n",
    "def number(n):\n",
    "    if (n%3==0):\n",
    "        return True\n",
    "    else:\n",
    "        return False\n",
    "n= int(input(\"enter a number\"))\n",
    "if(number(n)):\n",
    "    print(\"multiple of three\")\n",
    "else:\n",
    "    print(\"not multiple of three\")\n",
    "        \n",
    "        "
   ]
  },
  {
   "cell_type": "code",
   "execution_count": 2,
   "id": "a46c136b-65b5-453d-bc48-073f82cb35d5",
   "metadata": {},
   "outputs": [
    {
     "name": "stdin",
     "output_type": "stream",
     "text": [
      "enter a  number 4\n"
     ]
    },
    {
     "name": "stdout",
     "output_type": "stream",
     "text": [
      "****\n",
      "***\n",
      "**\n",
      "*\n"
     ]
    }
   ],
   "source": [
    "row=int(input(\"enter a  number\"))\n",
    "for r in range (row):\n",
    "    for c in range(row -r):\n",
    "        print(\"*\",end=\"\")\n",
    "    print()"
   ]
  },
  {
   "cell_type": "code",
   "execution_count": 2,
   "id": "1f13c81b-560c-474a-9d7f-9634c00b5fbc",
   "metadata": {},
   "outputs": [
    {
     "name": "stdin",
     "output_type": "stream",
     "text": [
      "enter a  number 5\n"
     ]
    },
    {
     "name": "stdout",
     "output_type": "stream",
     "text": [
      "* * * * * \n",
      " * * * * \n",
      "  * * * \n",
      "   * * \n",
      "    * \n"
     ]
    }
   ],
   "source": [
    "row = int(input(\"enter a  number\"))\n",
    "for r in range (row):\n",
    "    for s in range(r):\n",
    "        print(\"\",end=\" \")\n",
    "    for c in range(row -r):\n",
    "        print(\"*\",end=\" \")\n",
    "    print()"
   ]
  },
  {
   "cell_type": "code",
   "execution_count": 6,
   "id": "7f8a9435-016e-4bf5-a1db-1d82d4c07180",
   "metadata": {},
   "outputs": [
    {
     "name": "stdin",
     "output_type": "stream",
     "text": [
      "enter a number 6\n"
     ]
    },
    {
     "name": "stdout",
     "output_type": "stream",
     "text": [
      "\n",
      "1 \n",
      "2 3 \n",
      "4 5 6 \n",
      "7 8 9 10 \n",
      "11 12 13 14 15 \n"
     ]
    }
   ],
   "source": [
    "row=int(input (\"enter a number\"))\n",
    "count=1\n",
    "for r in range (row):\n",
    "    for c in range(r):\n",
    "        print(count,end = \" \")\n",
    "        count+=1\n",
    "    print()\n",
    "        \n",
    "\n",
    "    "
   ]
  },
  {
   "cell_type": "code",
   "execution_count": 15,
   "id": "c68ccd49-d2e5-4e28-86be-668958b0a12c",
   "metadata": {},
   "outputs": [
    {
     "name": "stdin",
     "output_type": "stream",
     "text": [
      "enter a number 5\n"
     ]
    },
    {
     "name": "stdout",
     "output_type": "stream",
     "text": [
      "\n",
      "A\n",
      "BC\n",
      "DEF\n",
      "GHIJ\n"
     ]
    }
   ],
   "source": [
    "row=int(input(\"enter a number\"))\n",
    "start =\"A\"\n",
    "for r in range (row):\n",
    "    for c in range(r):\n",
    "         print(start,end =\"\")\n",
    "         start= chr(ord(start)+ 1)\n",
    "    print()\n",
    "    "
   ]
  },
  {
   "cell_type": "code",
   "execution_count": 1,
   "id": "dd39e193-fa7e-4ebd-a7a2-58d25643790e",
   "metadata": {},
   "outputs": [
    {
     "name": "stdout",
     "output_type": "stream",
     "text": [
      "True\n"
     ]
    }
   ],
   "source": [
    "def isNegative(n)->bool:\n",
    "     return n <0\n",
    "a = isNegative(-5)\n",
    "print(a)"
   ]
  },
  {
   "cell_type": "code",
   "execution_count": 4,
   "id": "db31bea9-e451-4d8f-937a-b8a9bcc40423",
   "metadata": {},
   "outputs": [
    {
     "name": "stdout",
     "output_type": "stream",
     "text": [
      "True\n"
     ]
    }
   ],
   "source": [
    "#lambda function\n",
    "a= lambda n: n%2==0\n",
    "print(a(2))"
   ]
  },
  {
   "cell_type": "code",
   "execution_count": 9,
   "id": "a8b2f75c-b2a2-4196-97fb-aaa09eaefe71",
   "metadata": {},
   "outputs": [
    {
     "name": "stdout",
     "output_type": "stream",
     "text": [
      "False\n",
      "9\n"
     ]
    }
   ],
   "source": [
    "a= lambda n: n%2==0\n",
    "print(a(3))\n",
    "mul =lambda a,b: a*b\n",
    "print(mul(3,3))\n"
   ]
  },
  {
   "cell_type": "code",
   "execution_count": 16,
   "id": "ec56d676-cc88-41da-8c21-ec72c2d28618",
   "metadata": {},
   "outputs": [
    {
     "name": "stdout",
     "output_type": "stream",
     "text": [
      "13\n"
     ]
    }
   ],
   "source": [
    "#find the fibonacii series 0,1,1,2,3,5,8,13\n",
    "def fib(n) ->int:\n",
    "    a,b =0,1\n",
    "    if n==1:\n",
    "        return a\n",
    "    elif n==2:\n",
    "        return b\n",
    "    for i in range(n-1):\n",
    "        a,b =b,a+b\n",
    "    return a\n",
    "n = fib(8)\n",
    "print(n)\n"
   ]
  },
  {
   "cell_type": "code",
   "execution_count": 28,
   "id": "43e7f978-bf6a-40d4-9de8-b899d229b00b",
   "metadata": {},
   "outputs": [
    {
     "name": "stdout",
     "output_type": "stream",
     "text": [
      "hello world\n",
      "h h\n",
      "d d\n",
      "hello worldcoding block\n",
      "Hello worldcoding block\n",
      "HELLO WORLDCODING BLOCK\n"
     ]
    },
    {
     "data": {
      "text/plain": [
       "4"
      ]
     },
     "execution_count": 28,
     "metadata": {},
     "output_type": "execute_result"
    }
   ],
   "source": [
    "#string\n",
    "s= \"hello world\"\n",
    "print (s)\n",
    "print(s[0],s[-11])\n",
    "print (s[10],s[10])\n",
    "#s[0]='a' does not support assingment\n",
    "s+= \"coding block\"\n",
    "print(s)\n",
    "\n",
    "#print(s.replace(\"coding block\",\"python\"))\n",
    "print(s. capitalize())\n",
    "print(s.upper())\n",
    "s.count(\"l\")"
   ]
  },
  {
   "cell_type": "code",
   "execution_count": 19,
   "id": "1eb13190-c89c-417a-abf6-1ac5fac925ea",
   "metadata": {},
   "outputs": [
    {
     "name": "stdin",
     "output_type": "stream",
     "text": [
      "enter a number 5\n"
     ]
    },
    {
     "name": "stdout",
     "output_type": "stream",
     "text": [
      "* * * * * \n",
      " * * * * \n",
      "  * * * \n",
      "   * * \n",
      "    * \n"
     ]
    }
   ],
   "source": [
    "row=int(input(\"enter a number\"))\n",
    "for r in range (row):\n",
    "    for s in range (r):\n",
    "        print(\"\", end= \" \")\n",
    "    for c in range (row - r):\n",
    "     print(\"*\",end=\" \")\n",
    "    print()   \n",
    "\n",
    "    \n"
   ]
  },
  {
   "cell_type": "code",
   "execution_count": 21,
   "id": "9d39c01b-90eb-4dac-8816-fa4d8d84ee13",
   "metadata": {},
   "outputs": [
    {
     "name": "stdin",
     "output_type": "stream",
     "text": [
      "enter a number 9\n"
     ]
    },
    {
     "name": "stdout",
     "output_type": "stream",
     "text": [
      "\n",
      "1 \n",
      "2 3 \n",
      "4 5 6 \n",
      "7 8 9 10 \n",
      "11 12 13 14 15 \n",
      "16 17 18 19 20 21 \n",
      "22 23 24 25 26 27 28 \n",
      "29 30 31 32 33 34 35 36 \n"
     ]
    }
   ],
   "source": [
    "row = int (input(\"enter a number\"))\n",
    "count=1\n",
    "for r in range (row):\n",
    "    for c in range(r):\n",
    "        print(count,end=\" \")\n",
    "        count+=1\n",
    "    print()\n",
    "        "
   ]
  },
  {
   "cell_type": "raw",
   "id": "9ae1ee7b-589d-422f-9982-84333a00d183",
   "metadata": {},
   "source": [
    "row=int(input(\"enter a number\"))\n",
    "start=\"A\"\n",
    "for r in range(row):\n",
    "    for c in range(r):\n",
    "        print(start,end=\"\")\n",
    "        start=chr(ord(start)+1)\n",
    "    print()"
   ]
  },
  {
   "cell_type": "code",
   "execution_count": 2,
   "id": "c0c537d9-40fe-4397-a072-74368b0c5f75",
   "metadata": {},
   "outputs": [
    {
     "name": "stdout",
     "output_type": "stream",
     "text": [
      "True\n"
     ]
    }
   ],
   "source": [
    "a =lambda n: n%2==0\n",
    "print(a(2))"
   ]
  },
  {
   "cell_type": "code",
   "execution_count": 8,
   "id": "42a82bfb-1742-45e4-b1ea-47c6f68208b2",
   "metadata": {},
   "outputs": [
    {
     "name": "stdout",
     "output_type": "stream",
     "text": [
      "False\n",
      "9\n"
     ]
    }
   ],
   "source": [
    "a= lambda n: n%2==0\n",
    "print(a(3))\n",
    "mul= lambda a,b:a*b\n",
    "print(mul(3,3))"
   ]
  },
  {
   "cell_type": "code",
   "execution_count": 14,
   "id": "56a02771-728c-4903-8266-355f48e6b695",
   "metadata": {},
   "outputs": [
    {
     "name": "stdout",
     "output_type": "stream",
     "text": [
      "True\n",
      "81\n"
     ]
    }
   ],
   "source": [
    "a=lambda n: n %9==0\n",
    "print(a(9))\n",
    "mul=lambda a,b:a*b\n",
    "print(mul(9,9))"
   ]
  },
  {
   "cell_type": "code",
   "execution_count": 3,
   "id": "f294ea9b-2875-41f9-a889-96a9756d5216",
   "metadata": {},
   "outputs": [
    {
     "name": "stdout",
     "output_type": "stream",
     "text": [
      "Even numbers: [20, 40, 60, 80, 100]\n"
     ]
    }
   ],
   "source": [
    "number = [11,20,31,40,51,60,71,80,91,100]\n",
    "def even(x):\n",
    "    return x % 2 == 0\n",
    "\n",
    "evens = list(filter (even , number))\n",
    "print(\"Even numbers:\",evens)\n",
    "    \n",
    "    \n",
    "    "
   ]
  },
  {
   "cell_type": "code",
   "execution_count": 1,
   "id": "2ea3112e-7cb3-4fb1-b327-d170c1da1dcb",
   "metadata": {},
   "outputs": [
    {
     "name": "stdout",
     "output_type": "stream",
     "text": [
      "Even numbers grether than 50: [20, 40, 60, 80, 100]\n"
     ]
    }
   ],
   "source": [
    "numbers = [11,20,31,40,51,60,71,80,91,100]\n",
    "evenn = list(filter(lambda x: x % 2 == 0 , numbers))\n",
    "print(\"Even numbers grether than 50:\",evenn)"
   ]
  },
  {
   "cell_type": "code",
   "execution_count": 2,
   "id": "6fecc6f2-dbe1-4dd7-82e5-0363b4434513",
   "metadata": {},
   "outputs": [
    {
     "name": "stdout",
     "output_type": "stream",
     "text": [
      "hellow world\n",
      "h e\n",
      "l l\n",
      "hellow worldcoding block\n",
      "Hellow worldcoding block\n",
      "HELLOW WORLDCODING BLOCK\n"
     ]
    },
    {
     "data": {
      "text/plain": [
       "0"
      ]
     },
     "execution_count": 2,
     "metadata": {},
     "output_type": "execute_result"
    }
   ],
   "source": [
    "#string\n",
    "s= \"hellow world\"\n",
    "print (s)\n",
    "print(s[0],s[-11])\n",
    "print(s[10],s[10])\n",
    "#s[0]='a' does not support assingment\n",
    "s+= \"coding block\"\n",
    "print(s)\n",
    "\n",
    "#print(s.replace(\"coding block\",\"python\"))\n",
    "print(s. capitalize())\n",
    "print (s.upper())\n",
    "s.count(\"1\")"
   ]
  },
  {
   "cell_type": "code",
   "execution_count": 16,
   "id": "20816bf3-ee64-47fd-ab82-61507e6ab1c5",
   "metadata": {},
   "outputs": [
    {
     "name": "stdout",
     "output_type": "stream",
     "text": [
      "abcba\n",
      "\n",
      "aca\n",
      "\n",
      "\n"
     ]
    }
   ],
   "source": [
    "#abcba\n",
    "s= \"abcba\"\n",
    "print(s[0:5])\n",
    "print(s[1:1])\n",
    "print(s[0:5:2])\n",
    "print(s[4:0:1])\n",
    "print(s[-2:-4:1])"
   ]
  },
  {
   "cell_type": "code",
   "execution_count": 25,
   "id": "d90095f0-e81e-4f3f-bc4f-d7b4a8979f16",
   "metadata": {},
   "outputs": [
    {
     "name": "stdin",
     "output_type": "stream",
     "text": [
      "enter string abcd\n"
     ]
    },
    {
     "name": "stdout",
     "output_type": "stream",
     "text": [
      "b\n",
      "bc\n",
      "bcd\n"
     ]
    }
   ],
   "source": [
    "#abcd\n",
    "s= input(\"enter string\")\n",
    "stx=1\n",
    "for edx in range(2,len(s)+1):\n",
    "    print(s[stx:edx])\n",
    "\n",
    "    "
   ]
  },
  {
   "cell_type": "code",
   "execution_count": 28,
   "id": "6a9230d6-1973-4096-b771-fb5f23022345",
   "metadata": {},
   "outputs": [
    {
     "name": "stdin",
     "output_type": "stream",
     "text": [
      "enter string abcd\n"
     ]
    },
    {
     "name": "stdout",
     "output_type": "stream",
     "text": [
      "c\n",
      "cd\n"
     ]
    }
   ],
   "source": [
    "s= input(\"enter string\")\n",
    "stx=2\n",
    "for edx in range(3,len(s)+1):\n",
    "    print(s[stx:edx])\n",
    "                 "
   ]
  },
  {
   "cell_type": "code",
   "execution_count": 31,
   "id": "de904f5b-94be-4101-b444-21e0a3f98f09",
   "metadata": {},
   "outputs": [
    {
     "name": "stdin",
     "output_type": "stream",
     "text": [
      "enter string abcd\n"
     ]
    },
    {
     "name": "stdout",
     "output_type": "stream",
     "text": [
      "d\n"
     ]
    }
   ],
   "source": [
    "s=input(\"enter string\")\n",
    "stx=3\n",
    "for edx in range (4,len(s)+1):\n",
    "    print(s[stx:edx])"
   ]
  },
  {
   "cell_type": "code",
   "execution_count": 32,
   "id": "e20c406b-682b-4d17-a7b1-8c7fe131e1a9",
   "metadata": {},
   "outputs": [
    {
     "name": "stdin",
     "output_type": "stream",
     "text": [
      "enter a number abcd\n"
     ]
    },
    {
     "name": "stdout",
     "output_type": "stream",
     "text": [
      "a\n",
      "ab\n",
      "abc\n",
      "abcd\n",
      "b\n",
      "bc\n",
      "bcd\n",
      "c\n",
      "cd\n",
      "d\n"
     ]
    }
   ],
   "source": [
    "s= input (\"enter a number\")\n",
    "for stx in range(0,len(s)):\n",
    "    for edx in range(stx +1,len(s)+1):\n",
    "        print(s[stx:edx])"
   ]
  },
  {
   "cell_type": "code",
   "execution_count": 10,
   "id": "985b3e3e-1cf3-418e-8cd0-4e4437bbf358",
   "metadata": {},
   "outputs": [
    {
     "name": "stdin",
     "output_type": "stream",
     "text": [
      "enter a number abcdcba\n"
     ]
    },
    {
     "name": "stdout",
     "output_type": "stream",
     "text": [
      "a\n",
      "ab\n",
      "abc\n",
      "abcd\n",
      "abcdc\n",
      "abcdcb\n",
      "abcdcba\n",
      "b\n",
      "bc\n",
      "bcd\n",
      "bcdc\n",
      "bcdcb\n",
      "bcdcba\n",
      "c\n",
      "cd\n",
      "cdc\n",
      "cdcb\n",
      "cdcba\n",
      "d\n",
      "dc\n",
      "dcb\n",
      "dcba\n",
      "c\n",
      "cb\n",
      "cba\n",
      "b\n",
      "ba\n",
      "a\n"
     ]
    }
   ],
   "source": [
    "#abcdcba\n",
    "s =input(\"enter a number\")\n",
    "for stx in range (0,len(s)):\n",
    "    for edx in range(stx +1,len(s)+1):\n",
    "        print(s[stx:edx])"
   ]
  },
  {
   "cell_type": "code",
   "execution_count": 13,
   "id": "7003002b-cc43-48ac-89a0-5fe2c15ac771",
   "metadata": {},
   "outputs": [
    {
     "name": "stdin",
     "output_type": "stream",
     "text": [
      "enter string abcd\n"
     ]
    },
    {
     "name": "stdout",
     "output_type": "stream",
     "text": [
      "a\n",
      "ab\n",
      "abc\n",
      "abcd\n"
     ]
    }
   ],
   "source": [
    "s = input(\"enter string\")\n",
    "stx=0\n",
    "for edx in range(1,len(s)+1):\n",
    "    print(s[stx:edx])"
   ]
  },
  {
   "cell_type": "code",
   "execution_count": 15,
   "id": "374a707a-4146-417f-99b2-c5801ca7ff25",
   "metadata": {},
   "outputs": [
    {
     "name": "stdin",
     "output_type": "stream",
     "text": [
      "enter string abcd\n"
     ]
    },
    {
     "name": "stdout",
     "output_type": "stream",
     "text": [
      "a\n",
      "ab\n",
      "abc\n",
      "abcd\n",
      "b\n",
      "bc\n",
      "bcd\n",
      "c\n",
      "cd\n",
      "d\n"
     ]
    }
   ],
   "source": [
    "s = input(\"enter string\")\n",
    "for stx in range(0,len(s)):\n",
    "   for edx in range(stx +1,len(s)+1):\n",
    "     print(s[stx:edx])"
   ]
  },
  {
   "cell_type": "code",
   "execution_count": 17,
   "id": "01432c36-2e02-4122-a6a6-4d55d5075c09",
   "metadata": {},
   "outputs": [
    {
     "name": "stdout",
     "output_type": "stream",
     "text": [
      "go\n"
     ]
    }
   ],
   "source": [
    "light=\"green\"\n",
    "if(light==\"red\"):\n",
    "   print(\"stop\")\n",
    "elif (light==\"green\"):\n",
    "    print(\"go\")\n",
    "elif(light==\"yellow\"):\n",
    "    print(\"look\")\n",
    "\n",
    "else:\n",
    "    print(\"light is broke\")\n",
    "    "
   ]
  },
  {
   "cell_type": "code",
   "execution_count": 1,
   "id": "20ffb0ea-d5d7-46c4-8e98-521d9f311491",
   "metadata": {},
   "outputs": [
    {
     "name": "stdin",
     "output_type": "stream",
     "text": [
      "enter string abcd\n"
     ]
    },
    {
     "name": "stdout",
     "output_type": "stream",
     "text": [
      "a\n",
      "ab\n",
      "abc\n",
      "abcd\n"
     ]
    }
   ],
   "source": [
    "s= input(\"enter string\")\n",
    "stx=0\n",
    "for edx in range (1,len(s)+1):\n",
    "    print(s[stx:edx])"
   ]
  },
  {
   "cell_type": "code",
   "execution_count": 7,
   "id": "a88376c8-baed-46e8-ad18-8156a4389a63",
   "metadata": {},
   "outputs": [
    {
     "name": "stdin",
     "output_type": "stream",
     "text": [
      "enter string abcd\n"
     ]
    },
    {
     "name": "stdout",
     "output_type": "stream",
     "text": [
      "b\n",
      "bc\n",
      "bcd\n"
     ]
    }
   ],
   "source": [
    "s = input(\"enter string\")\n",
    "stx=1\n",
    "for edx in range (2,len(s)+1):\n",
    "    print(s[stx:edx])\n",
    "    "
   ]
  },
  {
   "cell_type": "code",
   "execution_count": 9,
   "id": "3781482f-ceb6-4a24-b345-93ac5689f558",
   "metadata": {},
   "outputs": [
    {
     "name": "stdin",
     "output_type": "stream",
     "text": [
      "enter string abcd\n"
     ]
    },
    {
     "name": "stdout",
     "output_type": "stream",
     "text": [
      "c\n",
      "cd\n"
     ]
    }
   ],
   "source": [
    "s= input (\"enter string\")\n",
    "stx=2\n",
    "for edx in range (3,len(s)+1):\n",
    "    print(s[stx:edx])\n",
    "\n",
    "\n"
   ]
  },
  {
   "cell_type": "code",
   "execution_count": 13,
   "id": "0014f4fe-d78b-4e70-ad11-e9ed982e4bb6",
   "metadata": {},
   "outputs": [
    {
     "name": "stdin",
     "output_type": "stream",
     "text": [
      "enter string abcd\n"
     ]
    },
    {
     "name": "stdout",
     "output_type": "stream",
     "text": [
      "d\n"
     ]
    }
   ],
   "source": [
    "s= input (\"enter string\")\n",
    "stx=3\n",
    "for edx in range (4,len(s)+1):\n",
    "    print(s[stx:edx])"
   ]
  },
  {
   "cell_type": "code",
   "execution_count": 2,
   "id": "440eb8a3-47b8-4204-9a74-b3c5d6fdeacc",
   "metadata": {},
   "outputs": [
    {
     "name": "stdout",
     "output_type": "stream",
     "text": [
      "720\n"
     ]
    }
   ],
   "source": [
    "#factorial\n",
    "def fact(n):\n",
    "    ans=1\n",
    "    for i in range(1,n+1):\n",
    "        ans*=i\n",
    "    return ans\n",
    "print(fact(6))    \n",
    "        \n",
    "        "
   ]
  },
  {
   "cell_type": "code",
   "execution_count": 3,
   "id": "e6e1da96-556f-4866-b674-dbaa9cf60d98",
   "metadata": {},
   "outputs": [
    {
     "name": "stdout",
     "output_type": "stream",
     "text": [
      "120\n"
     ]
    }
   ],
   "source": [
    "def fact(n):\n",
    "    ans=1\n",
    "    for i in range(1,n+1):\n",
    "        ans*=i\n",
    "    return ans\n",
    "print(fact(5))     \n",
    "        "
   ]
  },
  {
   "cell_type": "code",
   "execution_count": 6,
   "id": "69ee9756-507e-40ca-9762-ad3660bd7329",
   "metadata": {},
   "outputs": [
    {
     "name": "stdout",
     "output_type": "stream",
     "text": [
      "[4, 6, 5, 7, 8, 9]\n",
      "<class 'list'>\n",
      "6\n",
      "5\n"
     ]
    }
   ],
   "source": [
    "#string slicing\n",
    "marks=[4,6,5,7,8,9]\n",
    "print(marks)\n",
    "print(type(marks))\n",
    "print(marks[1])\n",
    "print(marks[2])\n"
   ]
  },
  {
   "cell_type": "code",
   "execution_count": 2,
   "id": "ef6b3bed-bfcc-4d12-aa41-b643c29b6fda",
   "metadata": {},
   "outputs": [
    {
     "name": "stdout",
     "output_type": "stream",
     "text": [
      "[3, 2, 4, 6, 7, 8]\n",
      "<class 'list'>\n",
      "6\n",
      "4\n"
     ]
    }
   ],
   "source": [
    "marks=[3,2,4,6,7,8]\n",
    "print(marks)\n",
    "print(type(marks))\n",
    "print(marks[3])\n",
    "print(marks[2])\n"
   ]
  },
  {
   "cell_type": "code",
   "execution_count": 6,
   "id": "29398436-f61c-40e6-8a08-835f8d5557bf",
   "metadata": {},
   "outputs": [],
   "source": [
    "def reverse_string(s):\n",
    "  s= list(s)\n",
    "  start, end=0,len(s)-1\n",
    "  reverse_word(s, start, end)\n",
    "  start = end = 0   \n",
    "\n"
   ]
  },
  {
   "cell_type": "code",
   "execution_count": 1,
   "id": "f780d02a-8b9c-4daf-a869-74a4af2a78f7",
   "metadata": {},
   "outputs": [
    {
     "name": "stdout",
     "output_type": "stream",
     "text": [
      "total count of chars,digits,symbols\n",
      "\n"
     ]
    },
    {
     "ename": "NameError",
     "evalue": "name 'sample_str' is not defined",
     "output_type": "error",
     "traceback": [
      "\u001b[1;31m---------------------------------------------------------------------------\u001b[0m",
      "\u001b[1;31mNameError\u001b[0m                                 Traceback (most recent call last)",
      "Cell \u001b[1;32mIn[1], line 16\u001b[0m\n\u001b[0;32m     14\u001b[0m samble_str \u001b[38;5;241m=\u001b[39m\u001b[38;5;124m\"\u001b[39m\u001b[38;5;124mggdsa5432$\u001b[39m\u001b[38;5;124m%\u001b[39m\u001b[38;5;124m$\u001b[39m\u001b[38;5;124m%\u001b[39m\u001b[38;5;124m@456\u001b[39m\u001b[38;5;124m\"\u001b[39m\n\u001b[0;32m     15\u001b[0m \u001b[38;5;28mprint\u001b[39m(\u001b[38;5;124m\"\u001b[39m\u001b[38;5;124mtotal count of chars,digits,symbols\u001b[39m\u001b[38;5;130;01m\\n\u001b[39;00m\u001b[38;5;124m\"\u001b[39m)\n\u001b[1;32m---> 16\u001b[0m find_digits_chars_symbols(\u001b[43msample_str\u001b[49m)\n",
      "\u001b[1;31mNameError\u001b[0m: name 'sample_str' is not defined"
     ]
    }
   ],
   "source": [
    "# count charater ,digit ,symbol\n",
    "def find_digits_chars_symbols(sample_str):\n",
    "    char_count= 0\n",
    "    digit_count= 0\n",
    "    symbol_count= 0\n",
    "    for char in sample_str:\n",
    "        if char. isalpha():\n",
    "            char_count+= 1 \n",
    "        elif char. isdigit() :\n",
    "            char_digit =1\n",
    "        else:\n",
    "            symbol_count+=1\n",
    "    print(\"chars\",char_count,\"digits\",digit_count,\"symblos\", symbol_count)\n",
    "samble_str =\"ggdsa5432$%$%@456\"\n",
    "print(\"total count of chars,digits,symbols\\n\")\n",
    "find_digits_chars_symbols(sample_str)\n",
    "\n",
    "\n",
    "      \n",
    "\n"
   ]
  },
  {
   "cell_type": "code",
   "execution_count": 2,
   "id": "bff32a5d-1578-41b6-9802-86ee943a6844",
   "metadata": {},
   "outputs": [
    {
     "name": "stdin",
     "output_type": "stream",
     "text": [
      "enter string 543\n"
     ]
    }
   ],
   "source": [
    "#string even lenht\n",
    "a= input (\"enter string\")\n",
    "s= a. split(\" \")\n",
    "for i in s :\n",
    "    if len (i)%2==0:\n",
    "        print(i)\n",
    "        \n"
   ]
  },
  {
   "cell_type": "code",
   "execution_count": 17,
   "id": "0b07aba6-741b-438f-9dd1-4dd50856471d",
   "metadata": {},
   "outputs": [
    {
     "name": "stdout",
     "output_type": "stream",
     "text": [
      "hsenaG\n"
     ]
    }
   ],
   "source": [
    "str  =\"Ganesh\"\n",
    "print(str[::-1])\n",
    "\n",
    "      \n"
   ]
  },
  {
   "cell_type": "code",
   "execution_count": 15,
   "id": "6839437b-fc36-4e51-a6d9-b79fe72d802f",
   "metadata": {},
   "outputs": [
    {
     "name": "stdout",
     "output_type": "stream",
     "text": [
      "the original string is : sekar\n",
      "the reverse string is : rakes\n"
     ]
    }
   ],
   "source": [
    "#reverse string\n",
    "def reverse_string(str):\n",
    "    str1=\"\"\n",
    "    for i in str:\n",
    "        str1= i + str1\n",
    "    return str1\n",
    "str= \"sekar\"\n",
    "print(\"the original string is :\",str)\n",
    "print(\"the reverse string is :\", reverse_string(str))"
   ]
  },
  {
   "cell_type": "code",
   "execution_count": 1,
   "id": "883dd599-94bc-4697-a732-d06de1423090",
   "metadata": {},
   "outputs": [
    {
     "name": "stdin",
     "output_type": "stream",
     "text": [
      "enter a string \"khgffccfvf\"\n"
     ]
    },
    {
     "name": "stdout",
     "output_type": "stream",
     "text": [
      "12\n"
     ]
    }
   ],
   "source": [
    "# lenth of string\n",
    "str =input (\"enter a string\")\n",
    "def string_lenght(str):\n",
    "    count= 0\n",
    "    for char in str:\n",
    "        count+= 1\n",
    "    return count\n",
    "print (string_lenght(str))   \n",
    "\n",
    "        "
   ]
  },
  {
   "cell_type": "code",
   "execution_count": 4,
   "id": "db2eeb46-ad05-40c2-a4ff-a0732dd41b6f",
   "metadata": {},
   "outputs": [
    {
     "name": "stdout",
     "output_type": "stream",
     "text": [
      "14\n",
      "ganesdkaisugs\n"
     ]
    }
   ],
   "source": [
    "def remove(s,i):\n",
    "    ns = a[:i] + a[i+1:]\n",
    "    return ns\n",
    "a = \"ganeshdkaisugs\"\n",
    "print(len(a))\n",
    "print(remove(a,5))\n"
   ]
  },
  {
   "cell_type": "code",
   "execution_count": 5,
   "id": "26be767f-b0f7-449c-b1fb-c1f773ccfa6f",
   "metadata": {},
   "outputs": [
    {
     "name": "stdout",
     "output_type": "stream",
     "text": [
      "abcd\n"
     ]
    }
   ],
   "source": [
    "s=\"   abcd   \"\n",
    "print(s.strip())"
   ]
  },
  {
   "cell_type": "code",
   "execution_count": 11,
   "id": "c2b44108-961c-47a4-947b-2b5a94c92cf9",
   "metadata": {},
   "outputs": [
    {
     "name": "stdout",
     "output_type": "stream",
     "text": [
      "11 ganeshkumar\n"
     ]
    }
   ],
   "source": [
    "s=\"hello world coding ganeshkumar\"\n",
    "s= s.split()\n",
    "max_len=0\n",
    "ans=\"\"\n",
    "for i in s:\n",
    "    if(len(i) > max_len):\n",
    "        max_len =len(i)\n",
    "        ans=i\n",
    "print(max_len, ans)"
   ]
  },
  {
   "cell_type": "code",
   "execution_count": 8,
   "id": "0a29f615-daf7-4584-8452-b16deb9c0b3a",
   "metadata": {},
   "outputs": [],
   "source": [
    "s=\"11363453637422311\""
   ]
  },
  {
   "cell_type": "markdown",
   "id": "15448735-7453-4434-873a-36eeae19aa4f",
   "metadata": {},
   "source": [
    "Find words which are greater than given length k\n"
   ]
  },
  {
   "cell_type": "code",
   "execution_count": null,
   "id": "79f8e594-c94e-4212-a097-bff9e65a3048",
   "metadata": {},
   "outputs": [],
   "source": [
    "s= input(\"enter string\")\n",
    "s= s. split()\n",
    "\n",
    "\n",
    "\n",
    "\n"
   ]
  },
  {
   "cell_type": "code",
   "execution_count": 1,
   "id": "69a57e14-467e-4206-9591-f5a0d8ba68c9",
   "metadata": {},
   "outputs": [
    {
     "name": "stdout",
     "output_type": "stream",
     "text": [
      "h\n"
     ]
    }
   ],
   "source": [
    "s= \"ganesh\"\n",
    "print(s[:-2:-1])"
   ]
  },
  {
   "cell_type": "code",
   "execution_count": 4,
   "id": "bfa96531-db73-4ed8-8ea4-f8923bf79304",
   "metadata": {},
   "outputs": [
    {
     "name": "stdout",
     "output_type": "stream",
     "text": [
      "hs\n",
      "gane\n",
      "hsgane\n"
     ]
    }
   ],
   "source": [
    "s=\"ganesh\"\n",
    "print(s[:-3:-1])\n",
    "print(s[:4:1])\n",
    "a = s[-1:-3:-1] + s[:4]\n",
    "print(a)\n"
   ]
  },
  {
   "cell_type": "code",
   "execution_count": 10,
   "id": "86ade327-5433-4e69-a248-5096500c832b",
   "metadata": {},
   "outputs": [
    {
     "name": "stdout",
     "output_type": "stream",
     "text": [
      "[1, 2, 3]\n"
     ]
    }
   ],
   "source": [
    "#list\n",
    "l=[1,2,3]\n",
    "print(l)"
   ]
  },
  {
   "cell_type": "code",
   "execution_count": 11,
   "id": "bd00e776-0179-4113-be37-d1637f70d258",
   "metadata": {},
   "outputs": [
    {
     "name": "stdout",
     "output_type": "stream",
     "text": [
      "<class 'list'>\n"
     ]
    }
   ],
   "source": [
    "l=[1,2,3]\n",
    "print(type(l))"
   ]
  },
  {
   "cell_type": "code",
   "execution_count": 12,
   "id": "40f1f6af-6088-490a-b9a7-b41b53fa72e0",
   "metadata": {},
   "outputs": [
    {
     "name": "stdout",
     "output_type": "stream",
     "text": [
      "<class 'list'>\n",
      "1\n",
      "2\n",
      "3\n"
     ]
    }
   ],
   "source": [
    "l=[1,2,3]\n",
    "print(type(l))\n",
    "for i in l:\n",
    "    print(i)"
   ]
  },
  {
   "cell_type": "code",
   "execution_count": 18,
   "id": "c9484b9f-b5e2-4765-a822-dd87064adf5b",
   "metadata": {},
   "outputs": [
    {
     "name": "stdout",
     "output_type": "stream",
     "text": [
      "[8, 7, 6, 5, 4, 3, 2, 1]\n",
      "[1, 4, 9, 16, 25, 36, 49, 64]\n"
     ]
    }
   ],
   "source": [
    "#slincing in list\n",
    "l=[1,2,3,4,5,6,7,8]\n",
    "print(l[-1::-1])\n",
    "sq=[]\n",
    "for i in l:\n",
    "    sq.append(i**2)\n",
    "print(sq)    \n"
   ]
  },
  {
   "cell_type": "code",
   "execution_count": 20,
   "id": "b09753ac-2f33-4bed-bc49-e88f4c5844ef",
   "metadata": {},
   "outputs": [
    {
     "name": "stdout",
     "output_type": "stream",
     "text": [
      "8\n"
     ]
    }
   ],
   "source": [
    "l=[1,2,3,4,5,6,7,8]\n",
    "largest =0\n",
    "for i in l:\n",
    "    if (largest< i):\n",
    "        largest= i\n",
    "print(largest)        \n"
   ]
  },
  {
   "cell_type": "code",
   "execution_count": 1,
   "id": "c99fc71f-0fa8-408e-846e-8bb272767cf6",
   "metadata": {},
   "outputs": [
    {
     "name": "stdout",
     "output_type": "stream",
     "text": [
      "[0, 1, 1, 2, 3, 5, 8, 13, 21, 34]\n"
     ]
    }
   ],
   "source": [
    "def fib(n):\n",
    "    l=[]\n",
    "    a,b=0,1\n",
    "    while n>0:\n",
    "        l.append(a)\n",
    "        a,b = b, a+b\n",
    "        n-=1\n",
    "    return l\n",
    "l=fib(10)\n",
    "print(l)"
   ]
  },
  {
   "cell_type": "code",
   "execution_count": 4,
   "id": "de74f73e-5b35-40c5-8b15-2a29f3b6ad85",
   "metadata": {},
   "outputs": [
    {
     "name": "stdout",
     "output_type": "stream",
     "text": [
      "[1, 3, 4, 5, 8, 9]\n"
     ]
    }
   ],
   "source": [
    "#sort\n",
    "l=[1,4,8,3,5,9]\n",
    "l.sort()\n",
    "print(l)"
   ]
  },
  {
   "cell_type": "code",
   "execution_count": 10,
   "id": "97d2f914-b882-42f0-8e08-0c0696d4ec8d",
   "metadata": {},
   "outputs": [
    {
     "name": "stdout",
     "output_type": "stream",
     "text": [
      "[1, 2, 3, 4, 5, 6, 7, 8, 9]\n"
     ]
    }
   ],
   "source": [
    "#append\n",
    "l= [1,2,3,4,5,6,7,8]\n",
    "l.append(9)\n",
    "print(l)"
   ]
  },
  {
   "cell_type": "code",
   "execution_count": 18,
   "id": "2060b817-c3e9-453a-861b-c7c1e21be5fc",
   "metadata": {},
   "outputs": [
    {
     "name": "stdout",
     "output_type": "stream",
     "text": [
      "[1, 2, 3, 4, 5, 6, 7, 8]\n"
     ]
    }
   ],
   "source": [
    "l= [1,2,3,4,5]\n",
    "l1=[6,7,8]\n",
    "l.extend(l1)\n",
    "print(l)\n",
    "\n"
   ]
  },
  {
   "cell_type": "code",
   "execution_count": 19,
   "id": "5d13b256-8dc3-4594-92da-74066b06912a",
   "metadata": {},
   "outputs": [
    {
     "name": "stdout",
     "output_type": "stream",
     "text": [
      "[1, 5, 3, 4, 6, 7, 8]\n"
     ]
    }
   ],
   "source": [
    "l=[1,5,3,6,7,8]\n",
    "l.insert(3,4)\n",
    "print(l)"
   ]
  },
  {
   "cell_type": "code",
   "execution_count": 25,
   "id": "96998686-6d05-4561-99f3-b9adb904f043",
   "metadata": {},
   "outputs": [
    {
     "name": "stdout",
     "output_type": "stream",
     "text": [
      "[1, 5, 7, 8]\n"
     ]
    }
   ],
   "source": [
    "l=[1,3,5,7,8]\n",
    "l.pop(1)\n",
    "print(l)\n"
   ]
  },
  {
   "cell_type": "code",
   "execution_count": 28,
   "id": "e4ce6284-eb65-455c-aa7b-84b81c6eabcd",
   "metadata": {},
   "outputs": [
    {
     "name": "stdout",
     "output_type": "stream",
     "text": [
      "[]\n"
     ]
    }
   ],
   "source": [
    "l=[1,6,8,4,7]\n",
    "l.clear()\n",
    "print(l)"
   ]
  },
  {
   "cell_type": "code",
   "execution_count": 14,
   "id": "dae89730-e9b9-4614-a653-3b9160fbfc3a",
   "metadata": {},
   "outputs": [
    {
     "name": "stdout",
     "output_type": "stream",
     "text": [
      "1\n"
     ]
    }
   ],
   "source": [
    "l=[2,4,7,8,9,4]\n",
    "c=l.count(8)\n",
    "print(c)"
   ]
  },
  {
   "cell_type": "code",
   "execution_count": 33,
   "id": "aea81903-3f99-4de5-a9a2-c1be5dac7668",
   "metadata": {},
   "outputs": [
    {
     "name": "stdout",
     "output_type": "stream",
     "text": [
      "[7, 6, 5, 4, 3, 2, 1]\n"
     ]
    }
   ],
   "source": [
    "l=[1,2,3,4,5,6,7]\n",
    "l.reverse()\n",
    "print(l)\n"
   ]
  },
  {
   "cell_type": "code",
   "execution_count": 35,
   "id": "aaf7ac0e-97ee-4582-b5fb-f352ec242405",
   "metadata": {},
   "outputs": [
    {
     "name": "stdout",
     "output_type": "stream",
     "text": [
      "[2, 3, 4, 5, 6]\n"
     ]
    }
   ],
   "source": [
    "l=[2,3,4,5,6]\n",
    "l.copy()\n",
    "print(l)"
   ]
  },
  {
   "cell_type": "code",
   "execution_count": 36,
   "id": "41441954-6052-4bd0-b11d-7e405051d3f6",
   "metadata": {},
   "outputs": [
    {
     "name": "stdout",
     "output_type": "stream",
     "text": [
      "[1, 3, 4, 9]\n"
     ]
    }
   ],
   "source": [
    "l=[1,3,4,5,9]\n",
    "l.remove(5)\n",
    "print(l)"
   ]
  },
  {
   "cell_type": "code",
   "execution_count": 57,
   "id": "7473e1a2-ff2c-441f-914a-5be96cfd5d7a",
   "metadata": {},
   "outputs": [
    {
     "name": "stdout",
     "output_type": "stream",
     "text": [
      "[3, 7, 5, 8]\n"
     ]
    }
   ],
   "source": [
    "l=[-3,-7,-5,-8]\n",
    "ps=[]\n",
    "for i in l:\n",
    "    ps.append(i*-1)\n",
    "print(ps)\n",
    "    \n"
   ]
  },
  {
   "cell_type": "code",
   "execution_count": 58,
   "id": "40efa640-77e6-4652-aa2d-29c9f39ad668",
   "metadata": {},
   "outputs": [
    {
     "name": "stdout",
     "output_type": "stream",
     "text": [
      "[2, 5, 5, 8, 7, 1, 11, 9]\n"
     ]
    }
   ],
   "source": [
    "#negative to positive\n",
    "l=[-2,-5,5,8,7,-1,11,-9]\n",
    "l1=[]\n",
    "for i in l:\n",
    "    l1.append(abs(i))\n",
    "print(l1)"
   ]
  },
  {
   "cell_type": "code",
   "execution_count": 3,
   "id": "0d7f46bc-c455-483f-963f-df2f0d2df2f3",
   "metadata": {},
   "outputs": [
    {
     "name": "stdout",
     "output_type": "stream",
     "text": [
      "[5, 8, 7, 11]\n"
     ]
    }
   ],
   "source": [
    "l=[-2,-5,5,8,7,-1,11,-9]\n",
    "l1=[]\n",
    "for i in l:\n",
    "    if(i>0):\n",
    "        l1.append(i)\n",
    "print(l1)       \n"
   ]
  },
  {
   "cell_type": "code",
   "execution_count": 4,
   "id": "4e843c67-849c-4047-bddf-3b2e09e2505c",
   "metadata": {},
   "outputs": [
    {
     "name": "stdout",
     "output_type": "stream",
     "text": [
      "[-2, -5, -1, -9]\n"
     ]
    }
   ],
   "source": [
    "l=[-2,-5,5,8,7,-1,11,-9]\n",
    "l2=[]\n",
    "for i in l:\n",
    "    if(i<0):\n",
    "        l2.append(i)\n",
    "print(l2)   "
   ]
  },
  {
   "cell_type": "code",
   "execution_count": 10,
   "id": "2b2fbb31-ffa3-4671-a7fb-19892f389c4e",
   "metadata": {},
   "outputs": [
    {
     "name": "stdout",
     "output_type": "stream",
     "text": [
      "[5, 7, 11]\n"
     ]
    }
   ],
   "source": [
    "#PRIME\n",
    "def isprime(n):\n",
    "    if(n<=0):\n",
    "        return False\n",
    "    for i in range(2,n):\n",
    "          if (n%i==0):\n",
    "              return False\n",
    "    return True\n",
    "l=[-2,-5,5,8,7,-1,11,-9]\n",
    "l3=[]\n",
    "for i in l:\n",
    "    if(isprime(i)):\n",
    "        l3.append(i)\n",
    "print(l3)\n"
   ]
  },
  {
   "cell_type": "code",
   "execution_count": 2,
   "id": "de3197c0-357b-462f-86e1-a33697bcc3e2",
   "metadata": {},
   "outputs": [
    {
     "name": "stdout",
     "output_type": "stream",
     "text": [
      "[4, 1, 2, 3]\n"
     ]
    }
   ],
   "source": [
    "l=[1,2,3,4]\n",
    "i=len(l)-1\n",
    "a=l[i]\n",
    "while(i>=0):\n",
    "    l[i]=l[i-1]\n",
    "    i-=1\n",
    "l[0]=a    \n",
    "print(l)\n",
    "\n"
   ]
  },
  {
   "cell_type": "code",
   "execution_count": 7,
   "id": "0e389ef4-c95b-4696-8f61-afe653cd08a5",
   "metadata": {},
   "outputs": [
    {
     "name": "stdout",
     "output_type": "stream",
     "text": [
      "[8, 7, 6, 5, 4, 3, 2, 1]\n"
     ]
    }
   ],
   "source": [
    "l=[1,2,3,4,5,6,7,8]\n",
    "left=0\n",
    "right=len(l)-1\n",
    "while(left<right):\n",
    "    l[left],l[right]=l[right],l[left]\n",
    "    left+=1\n",
    "    right-=1\n",
    "print(l)    \n",
    "    \n",
    "\n"
   ]
  },
  {
   "cell_type": "code",
   "execution_count": 13,
   "id": "575175d8-d936-462e-8f4d-8d5d9e17eaf9",
   "metadata": {},
   "outputs": [
    {
     "name": "stdout",
     "output_type": "stream",
     "text": [
      "[7, 8, 1, 2, 3, 4, 5, 6]\n"
     ]
    }
   ],
   "source": [
    "def reverse(start,end,l):\n",
    "    left=start\n",
    "    right=end\n",
    "    while(left<right):\n",
    "        l[left],l[right]=l[right],l[left]\n",
    "        left+=1\n",
    "        right-=1\n",
    "l=[1,2,3,4,5,6,7,8]\n",
    "reverse(6,7,l)\n",
    "reverse(0,5,l)\n",
    "reverse(0,7,l)\n",
    "print(l)"
   ]
  },
  {
   "cell_type": "code",
   "execution_count": 15,
   "id": "5baf2e2e-a2e1-4b68-981c-fd92ed0d92c0",
   "metadata": {},
   "outputs": [
    {
     "name": "stdout",
     "output_type": "stream",
     "text": [
      "[0, 1, 2, 3, 4]\n"
     ]
    }
   ],
   "source": [
    "#list comprehension\n",
    "l=[i for i in range(5)]\n",
    "print (l)"
   ]
  },
  {
   "cell_type": "code",
   "execution_count": 19,
   "id": "0307134d-bcef-432f-9a68-e3a42c2ba4dc",
   "metadata": {},
   "outputs": [
    {
     "name": "stdout",
     "output_type": "stream",
     "text": [
      "[4, 16]\n"
     ]
    },
    {
     "name": "stderr",
     "output_type": "stream",
     "text": [
      "<>:5: SyntaxWarning: invalid decimal literal\n",
      "<>:5: SyntaxWarning: invalid decimal literal\n",
      "C:\\Users\\91638\\AppData\\Local\\Temp\\ipykernel_20960\\3831447879.py:5: SyntaxWarning: invalid decimal literal\n",
      "  l1=[i**2for i in l if i%2==0 ]\n"
     ]
    }
   ],
   "source": [
    "l= [1,2,3,4,5]\n",
    "#l1=[]\n",
    "#for i in l:\n",
    "#  L1.APPEND(i**2)\n",
    "l1=[i**2for i in l if i%2==0 ]\n",
    "print(l1)"
   ]
  },
  {
   "cell_type": "code",
   "execution_count": 2,
   "id": "c8e74579-32c0-4d19-b5a4-78aa448c5e87",
   "metadata": {},
   "outputs": [
    {
     "name": "stdout",
     "output_type": "stream",
     "text": [
      "(1, 4) (1, 5) (1, 6) (2, 4) (2, 5) (2, 6) (3, 4) (3, 5) (3, 6) "
     ]
    }
   ],
   "source": [
    "x=[1,2,3]\n",
    "y=[4,5,6]\n",
    "for i in x:\n",
    "    for j in y:\n",
    "        print((i,j),end=\" \")\n",
    "              "
   ]
  },
  {
   "cell_type": "code",
   "execution_count": 4,
   "id": "70be1ecf-adc6-4b79-b466-6425bf06b7d9",
   "metadata": {},
   "outputs": [
    {
     "name": "stdout",
     "output_type": "stream",
     "text": [
      "[(1, 4), (1, 5), (1, 6), (2, 4), (2, 5), (2, 6), (3, 4), (3, 5), (3, 6)]\n"
     ]
    }
   ],
   "source": [
    "cord=[(i,j)for i in x for j in y]\n",
    "print(cord)"
   ]
  },
  {
   "cell_type": "code",
   "execution_count": 22,
   "id": "f91202a1-406e-4c32-a795-875a7f96ddd0",
   "metadata": {},
   "outputs": [
    {
     "name": "stdout",
     "output_type": "stream",
     "text": [
      "2\n"
     ]
    }
   ],
   "source": [
    "#find maximum of two no.\n",
    "def minimum(a,b):\n",
    "    if a <=b:\n",
    "        return a\n",
    "    else:\n",
    "        return b\n",
    "print(minimum (2,4))"
   ]
  },
  {
   "cell_type": "code",
   "execution_count": 23,
   "id": "2342ee8c-65b5-4f1d-93b3-820bfd42bd62",
   "metadata": {},
   "outputs": [
    {
     "name": "stdout",
     "output_type": "stream",
     "text": [
      "4\n"
     ]
    }
   ],
   "source": [
    "def minimum(a,b):\n",
    "    if a >=b:\n",
    "        return a\n",
    "    else:\n",
    "        return b\n",
    "print(minimum (2,4))"
   ]
  },
  {
   "cell_type": "code",
   "execution_count": 25,
   "id": "6c84db79-e6b1-4228-bd03-3dc904c488e1",
   "metadata": {},
   "outputs": [
    {
     "name": "stdout",
     "output_type": "stream",
     "text": [
      "exting\n"
     ]
    }
   ],
   "source": [
    "#checking the exting list\n",
    "l=[1,2,4,6,7,8]\n",
    "i=8\n",
    "if i in l:\n",
    "    print(\"exting\")\n",
    "else:\n",
    "    print(\"not exting\")"
   ]
  },
  {
   "cell_type": "code",
   "execution_count": 26,
   "id": "f8b8d063-6f82-4a12-a4b9-f135e1de1ea6",
   "metadata": {},
   "outputs": [
    {
     "name": "stdout",
     "output_type": "stream",
     "text": [
      "not exting\n"
     ]
    }
   ],
   "source": [
    "l=[1,2,4,6,7,8]\n",
    "i=9\n",
    "if i in l:\n",
    "    print(\"exting\")\n",
    "else:\n",
    "    print(\"not exting\")"
   ]
  },
  {
   "cell_type": "code",
   "execution_count": 30,
   "id": "123782e8-feac-4f7d-a0ea-12600624801a",
   "metadata": {},
   "outputs": [
    {
     "name": "stdout",
     "output_type": "stream",
     "text": [
      "largest element is: 9\n"
     ]
    }
   ],
   "source": [
    "#largest elewment\n",
    "a=[1,6,9,4,7,3]\n",
    "a.sort()\n",
    "print(\"largest element is:\",a[-1])\n"
   ]
  },
  {
   "cell_type": "code",
   "execution_count": 38,
   "id": "8b2e5292-1ac8-4c9a-ae53-f46f3d885402",
   "metadata": {},
   "outputs": [
    {
     "name": "stdout",
     "output_type": "stream",
     "text": [
      "2  8  4  "
     ]
    }
   ],
   "source": [
    "#even no.\n",
    "list=[2,5,7,9,8,4]\n",
    "for i in list:\n",
    "    if i%2==0:\n",
    "         print(i,end=\"  \")"
   ]
  },
  {
   "cell_type": "code",
   "execution_count": 3,
   "id": "744aa544-5eaa-4171-9e4f-5d33423842d2",
   "metadata": {},
   "outputs": [
    {
     "name": "stdout",
     "output_type": "stream",
     "text": [
      "sum  34\n",
      "average 4.857142857142857\n"
     ]
    }
   ],
   "source": [
    "l=[1,4,3,6,7,8,5,]\n",
    "count=0\n",
    "i=0\n",
    "while i<len(l):\n",
    "    count+=l[i]\n",
    "    i+=1\n",
    "ave=count/len(l)\n",
    "print(\"sum \",count)\n",
    "print(\"average\",ave)\n",
    "\n"
   ]
  },
  {
   "cell_type": "code",
   "execution_count": 9,
   "id": "eb3ce4f9-0e59-4986-9a4c-6c19e5d85548",
   "metadata": {},
   "outputs": [
    {
     "name": "stdout",
     "output_type": "stream",
     "text": [
      "11  45  77  "
     ]
    }
   ],
   "source": [
    "#odd no.\n",
    "l=[11 ,12,45,66,77,98]\n",
    "for num in l:\n",
    "    if num % 2 !=0:\n",
    "       print(num, end=\"  \")\n"
   ]
  },
  {
   "cell_type": "code",
   "execution_count": 40,
   "id": "a728294c-cb6d-4eac-b6aa-dd2f7926d2ab",
   "metadata": {},
   "outputs": [
    {
     "name": "stdout",
     "output_type": "stream",
     "text": [
      "even number in the list: 4\n",
      "print odd number in the list: 3\n"
     ]
    }
   ],
   "source": [
    "#print even and odd\n",
    "l=[11,46 ,12,45,66,77,98]\n",
    "even_count, odd_count=0,0\n",
    "for num in l:\n",
    "    if num % 2 ==0:\n",
    "        even_count+=1\n",
    "    else:\n",
    "        odd_count+=1\n",
    "print(\"even number in the list:\", even_count)\n",
    "print(\"print odd number in the list:\",odd_count)\n"
   ]
  },
  {
   "cell_type": "code",
   "execution_count": 48,
   "id": "1442d8c0-7259-42d6-82f6-7fd86855dd8c",
   "metadata": {},
   "outputs": [
    {
     "name": "stdout",
     "output_type": "stream",
     "text": [
      "-4\n"
     ]
    }
   ],
   "source": [
    "#sum list\n",
    "def sum_list(item):\n",
    "    sum_number = 0\n",
    "    for x in item:\n",
    "        sum_number += x\n",
    "    return sum_number\n",
    "print(sum_list([1,3,-8]))"
   ]
  },
  {
   "cell_type": "code",
   "execution_count": 51,
   "id": "00666997-1012-4c4c-9b4f-e0e570c4964a",
   "metadata": {},
   "outputs": [
    {
     "name": "stdout",
     "output_type": "stream",
     "text": [
      "15\n"
     ]
    }
   ],
   "source": [
    "def sum_list(item):\n",
    "    sum_number = 0\n",
    "    for i in item:\n",
    "         sum_number +=i\n",
    "    return sum_number\n",
    "print(sum_list([1,4,7,9,-6]))"
   ]
  },
  {
   "cell_type": "code",
   "execution_count": 4,
   "id": "6f373e49-d5c0-4520-aeb0-af0a04f76045",
   "metadata": {},
   "outputs": [
    {
     "name": "stdout",
     "output_type": "stream",
     "text": [
      "9\n"
     ]
    }
   ],
   "source": [
    "# print maximum no. lin list\n",
    "def max_num_in_list(list):\n",
    "    max=list[0]\n",
    "    for i in list:\n",
    "        if i >max:\n",
    "            max=i\n",
    "    return max\n",
    "print(max_num_in_list([1,2,5,6,8,9]))"
   ]
  },
  {
   "cell_type": "code",
   "execution_count": 10,
   "id": "b62576a5-02a4-424e-a259-be82d91d51ed",
   "metadata": {},
   "outputs": [
    {
     "name": "stdout",
     "output_type": "stream",
     "text": [
      "0  1  2  3  4  5  6  7  8  9  10  11  12  13  14  15  16  17  18  19  "
     ]
    }
   ],
   "source": [
    "#print positive no.in range\n",
    "start, end = -1 ,19\n",
    "for num in range(start, end + 1):\n",
    "    if num >= 0:\n",
    "       print(num, end=\"  \")"
   ]
  },
  {
   "cell_type": "code",
   "execution_count": 22,
   "id": "d2754691-fb72-4121-9400-0ab663608db8",
   "metadata": {},
   "outputs": [
    {
     "name": "stdout",
     "output_type": "stream",
     "text": [
      "-5  -4  -3  -2  -1  0  "
     ]
    }
   ],
   "source": [
    "#print negative no.in range\n",
    "start, end = -5,9\n",
    "for num in range(start, end + 1):\n",
    "    if num <= 0:\n",
    "       print(num, end=\"  \")"
   ]
  },
  {
   "cell_type": "code",
   "execution_count": 23,
   "id": "4e6f8d53-70cc-4430-a3a6-7ce5e444ca9f",
   "metadata": {},
   "outputs": [
    {
     "name": "stdout",
     "output_type": "stream",
     "text": [
      "-1  0  "
     ]
    }
   ],
   "source": [
    "start, end = -1,19\n",
    "for num in range(start, end + 1):l=[]\n",
    "    if num <= 0:\n",
    "       print(num, end=\"  \")"
   ]
  },
  {
   "cell_type": "code",
   "execution_count": 37,
   "id": "c6f18deb-e8c6-40e7-991a-0b71d647cf38",
   "metadata": {},
   "outputs": [
    {
     "name": "stdout",
     "output_type": "stream",
     "text": [
      "postive number in the list: 3\n",
      "negative number in the list: 2\n"
     ]
    }
   ],
   "source": [
    "#print pos and neg no.\n",
    "l =[2,5,9,-7,-1]\n",
    "pos_count,neg_count=0,0\n",
    "for num in l:\n",
    "    if num>=0:\n",
    "        pos_count +=1\n",
    "    else:\n",
    "        neg_count +=1\n",
    "print(\"postive number in the list:\", pos_count)\n",
    "print(\"negative number in the list:\",neg_count)"
   ]
  },
  {
   "cell_type": "code",
   "execution_count": 10,
   "id": "2ac4a9c8-aaa7-4163-a70e-c5eadc4759cc",
   "metadata": {},
   "outputs": [
    {
     "name": "stdout",
     "output_type": "stream",
     "text": [
      "[13, 15, 17, 19]\n"
     ]
    }
   ],
   "source": [
    "#remove the multiple of even no.\n",
    "l=[12,13,14,15,16,17,19]\n",
    "for i in l:\n",
    "     if i % 2 == 0:\n",
    "         l.remove(i)\n",
    "print(l) \n",
    "\n"
   ]
  },
  {
   "cell_type": "code",
   "execution_count": 1,
   "id": "bb74f892-cd46-4b3d-9991-39b036972fbf",
   "metadata": {},
   "outputs": [
    {
     "name": "stdout",
     "output_type": "stream",
     "text": [
      "[87, 55, 23, 46]\n"
     ]
    }
   ],
   "source": [
    "#swap\n",
    "def swapPositions(l , pos1, pos2):\n",
    "    l[pos1],l[pos2] =l[pos2],l[pos1]\n",
    "    return l\n",
    "l = [23,55,87,46]\n",
    "pos1,pos2 = 1,3\n",
    "\n",
    "print(swapPositions(l,pos1-1,pos2-1))"
   ]
  },
  {
   "cell_type": "code",
   "execution_count": 11,
   "id": "77d7f0b7-0b4f-4daa-be1f-fc384536930a",
   "metadata": {},
   "outputs": [
    {
     "name": "stdout",
     "output_type": "stream",
     "text": [
      "[11, 55, 77, 88]\n"
     ]
    }
   ],
   "source": [
    "#length of list\n",
    "l=[11,55,77,88]\n",
    "n=len(l)\n",
    "print(l)"
   ]
  },
  {
   "cell_type": "code",
   "execution_count": 7,
   "id": "aa4db176-efe7-48ee-b392-3962afce5b3e",
   "metadata": {},
   "outputs": [
    {
     "name": "stdout",
     "output_type": "stream",
     "text": [
      "find the lemght of is: 8\n"
     ]
    }
   ],
   "source": [
    "l=[33,66,88,99,2,7,3,6,]\n",
    "n=len(l)\n",
    "print (\"find the lemght of is:\",n)"
   ]
  },
  {
   "cell_type": "code",
   "execution_count": 10,
   "id": "c74c109a-e5c7-4b2c-a06b-96788ba5124c",
   "metadata": {},
   "outputs": [
    {
     "name": "stdout",
     "output_type": "stream",
     "text": [
      "[77, 44, 66, 12]\n"
     ]
    }
   ],
   "source": [
    "#swap first and last element\n",
    "def swapl(newl):\n",
    "    size = len(newl)\n",
    "    temp=newl[0]\n",
    "    newl[0]=newl[size-1]\n",
    "    newl[size-1]=temp\n",
    "    return newl\n",
    "newl=[12,44,66,77]\n",
    "print(swapl(newl))"
   ]
  },
  {
   "cell_type": "code",
   "execution_count": 14,
   "id": "ae9774e3-a7b9-4c2b-8350-39b80bce3a23",
   "metadata": {},
   "outputs": [
    {
     "name": "stdout",
     "output_type": "stream",
     "text": [
      "[24, 35, 9, 56, 12]\n"
     ]
    }
   ],
   "source": [
    "def swapl(newl):\n",
    "    newl[0],newl[-1]= newl[-1],newl[0]\n",
    "    return newl\n",
    "newl=[12,35,9,56,24]\n",
    "print(swapl(newl))   "
   ]
  },
  {
   "cell_type": "code",
   "execution_count": 17,
   "id": "cd1280b6-e5dd-49b4-89a8-5541e24c71d9",
   "metadata": {},
   "outputs": [
    {
     "name": "stdout",
     "output_type": "stream",
     "text": [
      "[99, 4, 6, 8, 12]\n"
     ]
    }
   ],
   "source": [
    "def swapl(newl):\n",
    "    newl[0],newl[-1]=newl[-1],newl[0]\n",
    "    return newl\n",
    "newl=[12,4,6,8,99]\n",
    "print(swapl(newl))"
   ]
  },
  {
   "cell_type": "code",
   "execution_count": 2,
   "id": "4d63bc10-9fba-4108-b25d-abfdb1d9d3c3",
   "metadata": {},
   "outputs": [
    {
     "name": "stdin",
     "output_type": "stream",
     "text": [
      " Lucknow@CB5G\n"
     ]
    },
    {
     "name": "stdout",
     "output_type": "stream",
     "text": [
      "valid password\n"
     ]
    }
   ],
   "source": [
    "p=input()\n",
    "l=len(p)>8\n",
    "c,s,d= False,False,False\n",
    "##capital letter ascii 65-90\n",
    "##small letter ascii 97-122\n",
    "##digit ascii 48-57\n",
    "for i in p:\n",
    "     if (ord(i)>=97 and ord(i)<=122):\n",
    "            s=True\n",
    "     elif(ord(i)>=65 and ord(i)<=90): \n",
    "            c=True\n",
    "     elif(ord(i)>=48 and ord(i)<=57):\n",
    "            d= True\n",
    "if (l and c and s and d):\n",
    "    print(\"valid password\")\n",
    "else:\n",
    "    print(\"not valid\")\n",
    "             \n",
    "        "
   ]
  },
  {
   "cell_type": "code",
   "execution_count": 4,
   "id": "6562066b-12c8-4207-b3ee-d5e366c18680",
   "metadata": {},
   "outputs": [
    {
     "name": "stdout",
     "output_type": "stream",
     "text": [
      "<class 'tuple'>\n"
     ]
    }
   ],
   "source": [
    "l=(2,)\n",
    "print(type(l))"
   ]
  },
  {
   "cell_type": "code",
   "execution_count": 12,
   "id": "d9db8a18-39f6-47bf-9579-9f10919ce9ff",
   "metadata": {},
   "outputs": [
    {
     "name": "stdout",
     "output_type": "stream",
     "text": [
      "<class 'tuple'> 0\n",
      "2\n",
      "4\n",
      "5\n",
      "8\n",
      "9\n",
      "0\n"
     ]
    }
   ],
   "source": [
    "t=(2,4,5,8,9,0)\n",
    "print(type(t),t[5])\n",
    "for i in t:\n",
    "   print(i)\n"
   ]
  },
  {
   "cell_type": "code",
   "execution_count": 15,
   "id": "dfe3d13e-6ab6-4f32-94ca-92fcaefb1036",
   "metadata": {},
   "outputs": [
    {
     "name": "stdout",
     "output_type": "stream",
     "text": [
      "ganesh 20 male\n"
     ]
    }
   ],
   "source": [
    "name,age,gender =(\"ganesh\",20,\"male\")\n",
    "print(name,age,gender)"
   ]
  },
  {
   "cell_type": "code",
   "execution_count": 21,
   "id": "595e51c3-f4dc-4e8b-899d-8ba8f55d86db",
   "metadata": {},
   "outputs": [
    {
     "name": "stdout",
     "output_type": "stream",
     "text": [
      "{'username': 'ganesh_440', 'Password': 'Lucknow@CB4G'}\n"
     ]
    }
   ],
   "source": [
    "#dictionary\n",
    "d={\"username\":\"ganesh_440\",\"Password\":\"Lucknow@CB4G\"}\n",
    "print(d)   "
   ]
  },
  {
   "cell_type": "code",
   "execution_count": 27,
   "id": "56d51c80-14e9-4e92-8dc5-5a498a891aa6",
   "metadata": {},
   "outputs": [
    {
     "name": "stdout",
     "output_type": "stream",
     "text": [
      "[{'username': 'ganesh_440', 'Password': 'Lucknow@CB4G'}, {'username': 'ganesh_440', 'Password': 'Lucknow@CB4G'}]\n"
     ]
    }
   ],
   "source": [
    "login_info = []\n",
    "for i in range(2):\n",
    "    u= input\n",
    "    p= input\n",
    "    s= {u:p}\n",
    "    login_info.append(d)\n",
    "print (login_info)\n",
    "    \n"
   ]
  },
  {
   "cell_type": "code",
   "execution_count": 17,
   "id": "ac9d329e-8fcd-40de-89a1-3bcc03f63e8e",
   "metadata": {},
   "outputs": [
    {
     "name": "stdout",
     "output_type": "stream",
     "text": [
      "ganesh\n",
      "20\n",
      "12345\n",
      "python\n"
     ]
    }
   ],
   "source": [
    "d={\n",
    "    \"name\":\"ganesh\",\n",
    "    \"age\":20,\n",
    "    \"mobil\":12345,\n",
    "    123:\"python\"\n",
    "}\n",
    "#print(d.keys)\n",
    "for i in d.values():\n",
    "    print(i)"
   ]
  },
  {
   "cell_type": "code",
   "execution_count": 6,
   "id": "bae356fa-2f74-4ec2-94a5-1755c81e8982",
   "metadata": {},
   "outputs": [
    {
     "ename": "SyntaxError",
     "evalue": "invalid syntax (3472777691.py, line 2)",
     "output_type": "error",
     "traceback": [
      "\u001b[1;36m  Cell \u001b[1;32mIn[6], line 2\u001b[1;36m\u001b[0m\n\u001b[1;33m    \"name\":\"ganesh\",\u001b[0m\n\u001b[1;37m          ^\u001b[0m\n\u001b[1;31mSyntaxError\u001b[0m\u001b[1;31m:\u001b[0m invalid syntax\n"
     ]
    }
   ],
   "source": [
    "d={(\n",
    "     \"name\":\"ganesh\",\n",
    "     \"age\":20,\n",
    "     \"mobil\":12345,\n",
    "     123:\"python\"\n",
    ")}\n",
    "#print(d.keys)\n",
    "for i in d.values():\n",
    "    print(i)\n",
    "d{}     "
   ]
  },
  {
   "cell_type": "code",
   "execution_count": 1,
   "id": "5ed24211-fca8-4e3f-8fc5-62f6c28ff88a",
   "metadata": {},
   "outputs": [
    {
     "ename": "TypeError",
     "evalue": "'int' object is not iterable",
     "output_type": "error",
     "traceback": [
      "\u001b[1;31m---------------------------------------------------------------------------\u001b[0m",
      "\u001b[1;31mTypeError\u001b[0m                                 Traceback (most recent call last)",
      "Cell \u001b[1;32mIn[1], line 2\u001b[0m\n\u001b[0;32m      1\u001b[0m l\u001b[38;5;241m=\u001b[39m[\u001b[38;5;241m2\u001b[39m,\u001b[38;5;241m4\u001b[39m,\u001b[38;5;241m5\u001b[39m,\u001b[38;5;241m8\u001b[39m,\u001b[38;5;241m0\u001b[39m,\u001b[38;5;241m1\u001b[39m,\u001b[38;5;241m7\u001b[39m]\n\u001b[1;32m----> 2\u001b[0m l\u001b[38;5;241m=\u001b[39m\u001b[38;5;28mlist\u001b[39m(\u001b[38;5;28;43mfilter\u001b[39;49m\u001b[43m(\u001b[49m\u001b[38;5;28;43;01mlambda\u001b[39;49;00m\u001b[43m \u001b[49m\u001b[43mx\u001b[49m\u001b[43m:\u001b[49m\u001b[43m \u001b[49m\u001b[43mx\u001b[49m\u001b[38;5;241;43m%\u001b[39;49m\u001b[38;5;241;43m2\u001b[39;49m\u001b[38;5;241;43m!=\u001b[39;49m\u001b[38;5;241;43m0\u001b[39;49m\u001b[43m,\u001b[49m\u001b[43m \u001b[49m\u001b[38;5;241;43m1\u001b[39;49m\u001b[43m)\u001b[49m)\n\u001b[0;32m      3\u001b[0m \u001b[38;5;28mprint\u001b[39m(l)\n",
      "\u001b[1;31mTypeError\u001b[0m: 'int' object is not iterable"
     ]
    }
   ],
   "source": [
    "l=[2,4,5,8,0,1,7]\n",
    "l=list(filter(lambda x: x%2!=0, 1))\n",
    "print(l)"
   ]
  },
  {
   "cell_type": "code",
   "execution_count": 14,
   "id": "6a6b5171-c5ea-4125-bcba-24fa0ce377ce",
   "metadata": {},
   "outputs": [
    {
     "ename": "TypeError",
     "evalue": "'int' object is not iterable",
     "output_type": "error",
     "traceback": [
      "\u001b[1;31m---------------------------------------------------------------------------\u001b[0m",
      "\u001b[1;31mTypeError\u001b[0m                                 Traceback (most recent call last)",
      "Cell \u001b[1;32mIn[14], line 2\u001b[0m\n\u001b[0;32m      1\u001b[0m l\u001b[38;5;241m=\u001b[39m[\u001b[38;5;241m2\u001b[39m,\u001b[38;5;241m4\u001b[39m,\u001b[38;5;241m5\u001b[39m,\u001b[38;5;241m8\u001b[39m,\u001b[38;5;241m0\u001b[39m,\u001b[38;5;241m1\u001b[39m,\u001b[38;5;241m7\u001b[39m]\n\u001b[1;32m----> 2\u001b[0m \u001b[38;5;28mlist\u001b[39m(\u001b[38;5;28;43mmap\u001b[39;49m\u001b[43m(\u001b[49m\u001b[43m \u001b[49m\u001b[38;5;28;43;01mlambda\u001b[39;49;00m\u001b[43m \u001b[49m\u001b[43mx\u001b[49m\u001b[43m:\u001b[49m\u001b[43m \u001b[49m\u001b[43mx\u001b[49m\u001b[38;5;241;43m*\u001b[39;49m\u001b[38;5;241;43m*\u001b[39;49m\u001b[38;5;241;43m3\u001b[39;49m\u001b[43m \u001b[49m\u001b[43m,\u001b[49m\u001b[43m \u001b[49m\u001b[38;5;241;43m1\u001b[39;49m\u001b[43m)\u001b[49m)\n",
      "\u001b[1;31mTypeError\u001b[0m: 'int' object is not iterable"
     ]
    }
   ],
   "source": [
    "l=[2,4,5,8,0,1,7]\n",
    "list(map( lambda x: x**3 , 1))"
   ]
  },
  {
   "cell_type": "code",
   "execution_count": 2,
   "id": "2c34c156-470a-491c-8f90-9587ab2220cc",
   "metadata": {},
   "outputs": [
    {
     "ename": "TypeError",
     "evalue": "'int' object is not iterable",
     "output_type": "error",
     "traceback": [
      "\u001b[1;31m---------------------------------------------------------------------------\u001b[0m",
      "\u001b[1;31mTypeError\u001b[0m                                 Traceback (most recent call last)",
      "Cell \u001b[1;32mIn[2], line 2\u001b[0m\n\u001b[0;32m      1\u001b[0m l\u001b[38;5;241m=\u001b[39m[\u001b[38;5;241m2\u001b[39m,\u001b[38;5;241m4\u001b[39m,\u001b[38;5;241m5\u001b[39m,\u001b[38;5;241m8\u001b[39m,\u001b[38;5;241m0\u001b[39m,\u001b[38;5;241m1\u001b[39m,\u001b[38;5;241m7\u001b[39m]\n\u001b[1;32m----> 2\u001b[0m l\u001b[38;5;241m=\u001b[39m\u001b[38;5;28mlist\u001b[39m(\u001b[38;5;28;43mmap\u001b[39;49m\u001b[43m(\u001b[49m\u001b[38;5;28;43;01mlambda\u001b[39;49;00m\u001b[43m \u001b[49m\u001b[43mx\u001b[49m\u001b[43m:\u001b[49m\u001b[43m \u001b[49m\u001b[43mx\u001b[49m\u001b[38;5;241;43m%\u001b[39;49m\u001b[38;5;241;43m2\u001b[39;49m\u001b[38;5;241;43m!=\u001b[39;49m\u001b[38;5;241;43m0\u001b[39;49m\u001b[43m,\u001b[49m\u001b[43m \u001b[49m\u001b[38;5;241;43m1\u001b[39;49m\u001b[43m)\u001b[49m)\n\u001b[0;32m      3\u001b[0m \u001b[38;5;28mprint\u001b[39m(l)\n",
      "\u001b[1;31mTypeError\u001b[0m: 'int' object is not iterable"
     ]
    }
   ],
   "source": [
    "l=[2,4,5,8,0,1,7]\n",
    "l=list(map(lambda x: x%2!=0, 1))\n",
    "print(l)"
   ]
  },
  {
   "cell_type": "code",
   "execution_count": 6,
   "id": "800811dd-7749-4420-8e84-95c3acba76bd",
   "metadata": {},
   "outputs": [
    {
     "name": "stdout",
     "output_type": "stream",
     "text": [
      "user abc\n",
      "password 12345\n",
      "name codin_blocks\n"
     ]
    }
   ],
   "source": [
    "dict = {\"user\" :\"abc\",\n",
    "        \"password\":12345,\n",
    "        \"name\":\"codin_blocks\"}\n",
    "for k,v in dict.items():\n",
    "     print(k,v)"
   ]
  },
  {
   "cell_type": "code",
   "execution_count": 30,
   "id": "61ead3cd-8abc-4e78-ba46-7b32237bfc24",
   "metadata": {},
   "outputs": [
    {
     "name": "stdout",
     "output_type": "stream",
     "text": [
      "3 8\n"
     ]
    }
   ],
   "source": [
    "#2d list\n",
    "l =[[1,2,3],\n",
    "    [4,5,6],\n",
    "    [7,8,9]]\n",
    "print(l[0][2],l[2][1])    "
   ]
  },
  {
   "cell_type": "code",
   "execution_count": 41,
   "id": "b6d3ef91-dea1-42f7-bf33-2cde2a8a5025",
   "metadata": {},
   "outputs": [
    {
     "name": "stdout",
     "output_type": "stream",
     "text": [
      "7\n",
      "8\n",
      "9\n"
     ]
    }
   ],
   "source": [
    "l =[[1,2,3],\n",
    "    [4,5,6],\n",
    "    [7,8,9]]\n",
    "for i in l[2]:\n",
    "    print(i)"
   ]
  },
  {
   "cell_type": "code",
   "execution_count": 42,
   "id": "b542dd2a-c437-4a1a-9933-61a3f93be89e",
   "metadata": {},
   "outputs": [
    {
     "name": "stdout",
     "output_type": "stream",
     "text": [
      "1\n",
      "2\n",
      "3\n"
     ]
    }
   ],
   "source": [
    "l =[[1,2,3],\n",
    "    [4,5,6],\n",
    "    [7,8,9]]\n",
    "for i in l[0]:\n",
    "    print(i)"
   ]
  },
  {
   "cell_type": "code",
   "execution_count": 43,
   "id": "f98730b6-a869-4024-9422-12de59070d75",
   "metadata": {},
   "outputs": [
    {
     "name": "stdout",
     "output_type": "stream",
     "text": [
      "4\n",
      "5\n",
      "6\n"
     ]
    }
   ],
   "source": [
    "l =[[1,2,3],\n",
    "    [4,5,6],\n",
    "    [7,8,9]]\n",
    "for i in l[1]:\n",
    "    print(i)"
   ]
  },
  {
   "cell_type": "code",
   "execution_count": 47,
   "id": "ae67c1f2-6b39-4eeb-9a9f-f52e471afb5b",
   "metadata": {},
   "outputs": [
    {
     "name": "stdout",
     "output_type": "stream",
     "text": [
      "1\n",
      "2\n",
      "3\n",
      "4\n",
      "5\n",
      "6\n",
      "7\n",
      "8\n",
      "9\n"
     ]
    }
   ],
   "source": [
    "l =[[1,2,3],\n",
    "    [4,5,6],\n",
    "    [7,8,9]]\n",
    "for i in l[0]:\n",
    "    print(i)\n",
    "for i in l[1]:\n",
    "    print(i)\n",
    "for i in l[2]:\n",
    "    print(i)"
   ]
  },
  {
   "cell_type": "code",
   "execution_count": 50,
   "id": "f2bede45-74ce-4c7b-baa3-58bd67b5454d",
   "metadata": {},
   "outputs": [
    {
     "name": "stdout",
     "output_type": "stream",
     "text": [
      "1 2 3 4 5 6 7 8 9 "
     ]
    }
   ],
   "source": [
    "l =[[1,2,3],\n",
    "    [4,5,6],\n",
    "    [7,8,9]]\n",
    "for j in range(3):\n",
    "    for i in l[j]:\n",
    "       print(i, end=\" \")"
   ]
  },
  {
   "cell_type": "code",
   "execution_count": 52,
   "id": "612c36cf-30b0-48e8-acd3-c2cec6c509c3",
   "metadata": {},
   "outputs": [
    {
     "name": "stdout",
     "output_type": "stream",
     "text": [
      "1 2 3 \n",
      "4 5 6 \n",
      "7 8 9 \n"
     ]
    }
   ],
   "source": [
    "l =[[1,2,3],\n",
    "    [4,5,6],\n",
    "    [7,8,9]]\n",
    "for j in range(3):\n",
    "    for i in l[j]:\n",
    "        print(i,end=\" \")\n",
    "    print()"
   ]
  },
  {
   "cell_type": "code",
   "execution_count": 53,
   "id": "42e7135c-7141-416c-a653-24a6ce16ef5b",
   "metadata": {},
   "outputs": [
    {
     "data": {
      "text/plain": [
       "[1, 2, 3, 4, 5, 6, 7, 8, 9]"
      ]
     },
     "execution_count": 53,
     "metadata": {},
     "output_type": "execute_result"
    }
   ],
   "source": [
    "l =[[1,2,3],\n",
    "    [4,5,6],\n",
    "    [7,8,9]]\n",
    "[l[i][j]for i in range(len(l[j])) for j in range(len(l))]"
   ]
  },
  {
   "cell_type": "code",
   "execution_count": 54,
   "id": "b6e47e5d-c21e-460e-a750-6a80848657f9",
   "metadata": {},
   "outputs": [
    {
     "name": "stdout",
     "output_type": "stream",
     "text": [
      "0 coding\n",
      "1 block\n",
      "2 indira\n",
      "3 nagar\n"
     ]
    }
   ],
   "source": [
    "l1= [\"coding\",\"block\",\"indira\",\"nagar\",]\n",
    "for idx, val in enumerate(l1):\n",
    "    print(idx, val)"
   ]
  },
  {
   "cell_type": "code",
   "execution_count": 55,
   "id": "eea6e045-4e07-4b75-9570-eecf6a407999",
   "metadata": {},
   "outputs": [
    {
     "name": "stdout",
     "output_type": "stream",
     "text": [
      "1 7\n",
      "3 2\n",
      "5 9\n",
      "8 1\n",
      "9 5\n"
     ]
    }
   ],
   "source": [
    "x= [1,3,5,8,9]\n",
    "y= [7,2,9,1,5]\n",
    "#zip function\n",
    "for i,j in zip(x,y):\n",
    "    print(i,j)"
   ]
  },
  {
   "cell_type": "code",
   "execution_count": 56,
   "id": "ac2d1e4b-ccd5-4df0-a700-c5c50ad908a5",
   "metadata": {},
   "outputs": [
    {
     "name": "stdout",
     "output_type": "stream",
     "text": [
      "[(1, 7), (3, 2), (5, 9), (8, 1), (9, 5)]\n"
     ]
    }
   ],
   "source": [
    "x= [1,3,5,8,9]\n",
    "y= [7,2,9,1,5]\n",
    "cord = [(i,j) for i,j in zip(x,y)]\n",
    "print(cord)"
   ]
  },
  {
   "cell_type": "code",
   "execution_count": 10,
   "id": "fb0cfd89-ea6c-4aa7-93ad-3bd9cfbdb0e9",
   "metadata": {},
   "outputs": [
    {
     "data": {
      "text/plain": [
       "2"
      ]
     },
     "execution_count": 10,
     "metadata": {},
     "output_type": "execute_result"
    }
   ],
   "source": [
    "l=[9,3,\"coding\",\"block\",2,4]\n",
    "list(map(type,l)).count(str)\n",
    "\n",
    "   "
   ]
  },
  {
   "cell_type": "code",
   "execution_count": 12,
   "id": "06b093a2-4b2d-4f2d-9653-81e8438b7a96",
   "metadata": {},
   "outputs": [
    {
     "name": "stdout",
     "output_type": "stream",
     "text": [
      "dict_keys(['banana', 'apple', 'orange'])\n"
     ]
    }
   ],
   "source": [
    "fr={\"banana\":10,\n",
    "    \"apple\":15,\n",
    "    \"orange\":20}\n",
    "key = fr.keys()\n",
    "print(key)"
   ]
  },
  {
   "cell_type": "code",
   "execution_count": 13,
   "id": "cb8c1439-42fd-4d06-9f25-933bfaec46a1",
   "metadata": {},
   "outputs": [
    {
     "name": "stdout",
     "output_type": "stream",
     "text": [
      "['banana', 'apple', 'orange']\n"
     ]
    }
   ],
   "source": [
    "fr={\"banana\":10,\n",
    "    \"apple\":15,\n",
    "    \"orange\":20}\n",
    "key =list(fr.keys())\n",
    "print(key)"
   ]
  },
  {
   "cell_type": "code",
   "execution_count": null,
   "id": "56e36671-0f0e-4f6b-9630-c4018cf4a6a2",
   "metadata": {},
   "outputs": [],
   "source": [
    "fr={\"banana\":10,\n",
    "    \"apple\":15,\n",
    "    \"orange\":20}\n",
    "print = fr.gets(orange)\n",
    "print(fr)\n",
    "total_fr=0\n",
    "for i in fr:\n",
    "    total fr\n",
    "    \n",
    "\n"
   ]
  },
  {
   "cell_type": "code",
   "execution_count": 24,
   "id": "bf7cf1aa-0596-41f3-9512-7a5432200c4b",
   "metadata": {},
   "outputs": [
    {
     "name": "stdout",
     "output_type": "stream",
     "text": [
      "45\n"
     ]
    }
   ],
   "source": [
    "fr={\"banana\":10,\n",
    "    \"apple\":15,\n",
    "    \"orange\":20}\n",
    "value = list(fr.values())\n",
    "sum=0\n",
    "for i in value:\n",
    "    sum+=i\n",
    "print(sum)\n"
   ]
  },
  {
   "cell_type": "code",
   "execution_count": 28,
   "id": "21a5d489-5f78-42ad-ae5a-feae41d6db51",
   "metadata": {},
   "outputs": [
    {
     "name": "stdout",
     "output_type": "stream",
     "text": [
      "[('banana', 10), ('apple', 15), ('orange', 20)]\n"
     ]
    }
   ],
   "source": [
    "fr={\"banana\":10,\n",
    "    \"apple\":15,\n",
    "    \"orange\":20}\n",
    "items = list(fr.items())\n",
    "print(items)"
   ]
  },
  {
   "cell_type": "raw",
   "id": "594476c5-fefe-4492-b6a5-8b2eeaa8d3e8",
   "metadata": {},
   "source": []
  },
  {
   "cell_type": "code",
   "execution_count": 35,
   "id": "ea65b6c4-5dbb-49ed-a87c-5f95bf7256a0",
   "metadata": {},
   "outputs": [
    {
     "name": "stdout",
     "output_type": "stream",
     "text": [
      "25\n",
      "25\n"
     ]
    }
   ],
   "source": [
    "data={\n",
    "    \"fr\":{\"banana\":10,\n",
    "    \"apple\":15,\n",
    "    \"orange\":20},\n",
    "    \"veg\":{\"potato\":15,\n",
    "           \"tomato\":25,\n",
    "           \"carrot\":30}\n",
    "}\n",
    "print(data.get(\"veg\").get(\"tomato\"))\n",
    "print(data[\"veg\"][\"tomato\"])"
   ]
  },
  {
   "cell_type": "raw",
   "id": "a5942290-32b9-4494-8691-c1a6a8228f81",
   "metadata": {},
   "source": [
    "\n",
    "for key, value in data.items():\n",
    "     print(key,value)\n",
    "     for chid_k,child_v in data[key].items():\n",
    "         print(child_k,chid_v)"
   ]
  },
  {
   "cell_type": "code",
   "execution_count": 42,
   "id": "467f2a99-1008-4050-bec0-a8b6bc244274",
   "metadata": {},
   "outputs": [
    {
     "name": "stdout",
     "output_type": "stream",
     "text": [
      "['apple', 'banana', 'grapes', 'orange']\n",
      "{'apple': 15, 'banana': 10, 'grapes': 5, 'orange': 20}\n"
     ]
    }
   ],
   "source": [
    "fr={\"banana\":10,\n",
    "    \"apple\":15,\n",
    "    \"orange\":20}\n",
    "#adding new keys into dict\n",
    "fr[\"grapes\"]=5\n",
    "\n",
    "key = list(fr.keys())\n",
    "key.sort()\n",
    "print(key)\n",
    "#creatinf new dict having sorted key\n",
    "new_fr={}\n",
    "for k in key:\n",
    "    new_fr[k]= fr[k]\n",
    "print (new_fr)   \n",
    "    "
   ]
  },
  {
   "cell_type": "code",
   "execution_count": 52,
   "id": "682840e2-2dc1-48ab-8fed-66cf88ec5d3d",
   "metadata": {},
   "outputs": [
    {
     "ename": "ImportError",
     "evalue": "cannot import name 'orderedDict' from 'collections' (C:\\Users\\91638\\AppData\\Local\\Programs\\Python\\Python312\\Lib\\collections\\__init__.py)",
     "output_type": "error",
     "traceback": [
      "\u001b[1;31m---------------------------------------------------------------------------\u001b[0m",
      "\u001b[1;31mImportError\u001b[0m                               Traceback (most recent call last)",
      "Cell \u001b[1;32mIn[52], line 1\u001b[0m\n\u001b[1;32m----> 1\u001b[0m \u001b[38;5;28;01mfrom\u001b[39;00m \u001b[38;5;21;01mcollections\u001b[39;00m \u001b[38;5;28;01mimport\u001b[39;00m orderedDict\n\u001b[0;32m      2\u001b[0m fr\u001b[38;5;241m=\u001b[39m{\u001b[38;5;124m\"\u001b[39m\u001b[38;5;124mbanana\u001b[39m\u001b[38;5;124m\"\u001b[39m:\u001b[38;5;241m10\u001b[39m,\n\u001b[0;32m      3\u001b[0m     \u001b[38;5;124m\"\u001b[39m\u001b[38;5;124mapple\u001b[39m\u001b[38;5;124m\"\u001b[39m:\u001b[38;5;241m15\u001b[39m,\n\u001b[0;32m      4\u001b[0m     \u001b[38;5;124m\"\u001b[39m\u001b[38;5;124morange\u001b[39m\u001b[38;5;124m\"\u001b[39m:\u001b[38;5;241m20\u001b[39m}\n\u001b[0;32m      5\u001b[0m orderdict\u001b[38;5;241m=\u001b[39morderedDict(\u001b[38;5;28msorted\u001b[39m(fr\u001b[38;5;241m.\u001b[39mitems()))\n",
      "\u001b[1;31mImportError\u001b[0m: cannot import name 'orderedDict' from 'collections' (C:\\Users\\91638\\AppData\\Local\\Programs\\Python\\Python312\\Lib\\collections\\__init__.py)"
     ]
    }
   ],
   "source": [
    "from collections import orderedDict\n",
    "fr={\"banana\":10,\n",
    "    \"apple\":15,\n",
    "    \"orange\":20}\n",
    "orderdict=orderedDict(sorted(fr.items()))\n",
    "print(type(orderdict),type(fr))\n"
   ]
  },
  {
   "cell_type": "code",
   "execution_count": 53,
   "id": "ca19f99a-3006-4360-95b2-b4d16ff905b1",
   "metadata": {},
   "outputs": [
    {
     "name": "stdout",
     "output_type": "stream",
     "text": [
      "{8, 1, 4, 9}\n"
     ]
    }
   ],
   "source": [
    "#sets\n",
    "s={4,8,1,9,4,1}\n",
    "print(s)"
   ]
  },
  {
   "cell_type": "code",
   "execution_count": 56,
   "id": "4e94a31c-910a-4268-a57a-cc639fbb88ba",
   "metadata": {},
   "outputs": [
    {
     "name": "stdout",
     "output_type": "stream",
     "text": [
      "1 11 5 7 "
     ]
    }
   ],
   "source": [
    "l={5,7,11,1,5,11}\n",
    "l1=set(l)\n",
    "for i in l1:\n",
    "    print(i,end=\" \")\n"
   ]
  },
  {
   "cell_type": "code",
   "execution_count": 10,
   "id": "97e08039-838a-4df2-ae0b-f7afe47afbbc",
   "metadata": {},
   "outputs": [
    {
     "ename": "AttributeError",
     "evalue": "'set' object has no attribute 'count'",
     "output_type": "error",
     "traceback": [
      "\u001b[1;31m---------------------------------------------------------------------------\u001b[0m",
      "\u001b[1;31mAttributeError\u001b[0m                            Traceback (most recent call last)",
      "Cell \u001b[1;32mIn[10], line 4\u001b[0m\n\u001b[0;32m      2\u001b[0m nl\u001b[38;5;241m=\u001b[39m[]\n\u001b[0;32m      3\u001b[0m \u001b[38;5;28;01mfor\u001b[39;00m i \u001b[38;5;129;01min\u001b[39;00m ls:\n\u001b[1;32m----> 4\u001b[0m     \u001b[38;5;28;01mif\u001b[39;00m(\u001b[43mls\u001b[49m\u001b[38;5;241;43m.\u001b[39;49m\u001b[43mcount\u001b[49m(i)\u001b[38;5;241m==\u001b[39ml):\n\u001b[0;32m      5\u001b[0m         nl\u001b[38;5;241m.\u001b[39mappend(i)\n\u001b[0;32m      6\u001b[0m \u001b[38;5;28mprint\u001b[39m(nl)        \n",
      "\u001b[1;31mAttributeError\u001b[0m: 'set' object has no attribute 'count'"
     ]
    }
   ],
   "source": [
    "c\n",
    "for i in ls:\n",
    "    if(ls.count(i)==l):\n",
    "        nl.append(i)\n",
    "print(nl)        \n",
    "    "
   ]
  },
  {
   "cell_type": "code",
   "execution_count": 16,
   "id": "8a1f3a4a-fba9-4768-90f7-1abdb961f32e",
   "metadata": {},
   "outputs": [
    {
     "name": "stdout",
     "output_type": "stream",
     "text": [
      "{8, 1, 4, 9}\n",
      "{1, 8, 11, (12, 15, 8), 19, 21}\n",
      "1\n",
      "8\n",
      "11\n",
      "(12, 15, 8)\n",
      "19\n",
      "21\n",
      "not present\n"
     ]
    }
   ],
   "source": [
    "s={4,8,1,9,4,1}\n",
    "print(s)\n",
    "#add is use to insert single elem\n",
    "s.add((12,15,8))\n",
    "s.add((12,15,8))\n",
    "# update is use to insert multiple elem\n",
    "s.update((11,19,21))\n",
    "#remove element from set if present else give errors\n",
    "s.remove(4)\n",
    "#discard elem from set but  does'nt give error\n",
    "s.discard(9)\n",
    "print(s)\n",
    "#for loop in set\n",
    "for i in s:\n",
    "    print(i)\n",
    "#check element in present\n",
    "if (9 in s):\n",
    "    print(\"presen\")\n",
    "else:\n",
    "    print(\"not present\")"
   ]
  },
  {
   "cell_type": "code",
   "execution_count": 25,
   "id": "9f9b1fa6-9982-4dde-bf80-43fb14fe8cd9",
   "metadata": {},
   "outputs": [
    {
     "name": "stdout",
     "output_type": "stream",
     "text": [
      "{1, 7}\n"
     ]
    }
   ],
   "source": [
    "#\n",
    "ls=[5,7,11,1,5,11]\n",
    "s=set()\n",
    "for i in ls:\n",
    "    if(i in s):\n",
    "        s.remove(i)\n",
    "    else:\n",
    "        s.add(i)\n",
    "print(s)"
   ]
  },
  {
   "cell_type": "code",
   "execution_count": 28,
   "id": "38dbcbc0-1b2f-4925-bb78-eb3e9b16fea4",
   "metadata": {},
   "outputs": [
    {
     "name": "stdout",
     "output_type": "stream",
     "text": [
      "[5, 11]\n"
     ]
    }
   ],
   "source": [
    "# find duplicate value \n",
    "ls=[5,7,11,1,5,11]\n",
    "s=set()\n",
    "nl=[]\n",
    "for i in ls:\n",
    "    if(i in s):\n",
    "        nl.append(i)\n",
    "    else:\n",
    "        s.add(i)\n",
    "print(nl)"
   ]
  },
  {
   "cell_type": "code",
   "execution_count": 2,
   "id": "b2f178a6-9eef-47a9-a614-3bca64827480",
   "metadata": {},
   "outputs": [
    {
     "name": "stdout",
     "output_type": "stream",
     "text": [
      "{'carrot', 'tomato'}\n",
      "{'apple', 'bringle', 'carrot', 'tomato', 'banana'}\n",
      "{'apple', 'bringle', 'banana'}\n",
      "{'banana', 'apple'}\n",
      "{'bringle'}\n"
     ]
    }
   ],
   "source": [
    "fr=[\"banana\",\"carrot\",\"tomato\",\"apple\"]\n",
    "veg=[\"carrot\",\"tomato\",\"bringle\"]\n",
    "s1=set(fr)\n",
    "s2=set(veg)\n",
    "print(s1&s2)#intersection of two set\n",
    "print(s1|s2)#union of two set\n",
    "print(s1^s2)#excllude item that present in both\n",
    "print(s1-s2)#subtraction of s2 from s1\n",
    "print(s2-s1)"
   ]
  },
  {
   "cell_type": "code",
   "execution_count": 6,
   "id": "5692c811-7321-4abc-a555-f5ceee2cda63",
   "metadata": {},
   "outputs": [
    {
     "name": "stdout",
     "output_type": "stream",
     "text": [
      "[12]\n"
     ]
    }
   ],
   "source": [
    "#filter function\n",
    "def my_fun(n):\n",
    "    return n%2==0\n",
    "ls=[11,19,15,12]\n",
    "en=list(filter(my_fun,ls))\n",
    "print(en)"
   ]
  },
  {
   "cell_type": "code",
   "execution_count": 7,
   "id": "a44bee67-6122-46d5-9f23-3edad0acb832",
   "metadata": {},
   "outputs": [
    {
     "name": "stdout",
     "output_type": "stream",
     "text": [
      "[12]\n"
     ]
    }
   ],
   "source": [
    "ls=[11,19,15,12]\n",
    "en=list(filter(lambda n: n%2==0,ls))\n",
    "print(en)"
   ]
  },
  {
   "cell_type": "code",
   "execution_count": 12,
   "id": "ac861d22-bcfd-4a50-b7e0-814899403aaf",
   "metadata": {},
   "outputs": [
    {
     "name": "stdout",
     "output_type": "stream",
     "text": [
      "[('rohan', 16)]\n"
     ]
    }
   ],
   "source": [
    "ls=[(\"ram\",19),(\"shyam\",21),(\"rohan\",16),(\"sohan\",25)]\n",
    "en=list(filter (lambda t:t[1]%2==0,ls))\n",
    "print(en)"
   ]
  },
  {
   "cell_type": "code",
   "execution_count": 13,
   "id": "ec98a5dc-c150-4b2d-90b4-891050e9ba8e",
   "metadata": {},
   "outputs": [
    {
     "name": "stdout",
     "output_type": "stream",
     "text": [
      "('ram', 19)\n",
      "('shyam', 21)\n",
      "('rohan', 16)\n",
      "('sohan', 25)\n"
     ]
    }
   ],
   "source": [
    "#enumerate function\n",
    "ls=[(\"ram\",19),(\"shyam\",21),(\"rohan\",16),(\"sohan\",25)]\n",
    "for i in ls:\n",
    "    print(i)"
   ]
  },
  {
   "cell_type": "code",
   "execution_count": 14,
   "id": "57343d80-9b57-4d8b-9bef-7edd470fe897",
   "metadata": {},
   "outputs": [
    {
     "name": "stdout",
     "output_type": "stream",
     "text": [
      "0 ('ram', 19)\n",
      "1 ('shyam', 21)\n",
      "2 ('rohan', 16)\n",
      "3 ('sohan', 25)\n"
     ]
    }
   ],
   "source": [
    "ls=[(\"ram\",19),(\"shyam\",21),(\"rohan\",16),(\"sohan\",25)]\n",
    "for idx,val in enumerate(ls):\n",
    "    print(idx,val)"
   ]
  },
  {
   "cell_type": "code",
   "execution_count": 16,
   "id": "9d443dd9-bff9-47e2-9f11-c0c2798f9819",
   "metadata": {},
   "outputs": [
    {
     "name": "stdout",
     "output_type": "stream",
     "text": [
      "shyam 19\n",
      "ram 21\n",
      "rohan 30\n",
      "sohan 24\n",
      "sita 16\n"
     ]
    }
   ],
   "source": [
    "name=[\"shyam\",\"ram\",\"rohan\",\"sohan\",\"sita\"]\n",
    "age=[19,21,30,24,16]\n",
    "for nam,ag in zip(name,age):\n",
    "    print(nam,ag)"
   ]
  },
  {
   "cell_type": "code",
   "execution_count": 17,
   "id": "ec796c67-ee6e-47f7-a40b-2f092ea3b312",
   "metadata": {},
   "outputs": [
    {
     "name": "stdout",
     "output_type": "stream",
     "text": [
      "shyam 19\n",
      "ram 21\n",
      "rohan 30\n",
      "sohan 24\n",
      "sita 16\n",
      "{'shyam': 19, 'ram': 21, 'rohan': 30, 'sohan': 24, 'sita': 16}\n"
     ]
    }
   ],
   "source": [
    "name=[\"shyam\",\"ram\",\"rohan\",\"sohan\",\"sita\"]\n",
    "age=[19,21,30,24,16]\n",
    "data={}\n",
    "for nam,ag in zip(name,age):\n",
    "    print(nam,ag)\n",
    "    data[nam]=ag\n",
    "print(data)    "
   ]
  },
  {
   "cell_type": "code",
   "execution_count": 24,
   "id": "5a6c1b4f-0561-4e67-8e76-743c5f44cf3c",
   "metadata": {},
   "outputs": [
    {
     "name": "stdout",
     "output_type": "stream",
     "text": [
      "1 2 3 \n",
      "5 7 9 \n",
      "11 15 17 12 \n"
     ]
    }
   ],
   "source": [
    "l=[[1,2,3],\n",
    "   [5,7,9],\n",
    "   [11,15,17,12]]\n",
    "for j in range (3):\n",
    "    for i in l[j]:\n",
    "        print(i,end=\" \")\n",
    "    print()"
   ]
  },
  {
   "cell_type": "code",
   "execution_count": 28,
   "id": "282f89bd-3fc5-44b9-a39a-9072106db582",
   "metadata": {},
   "outputs": [
    {
     "name": "stdout",
     "output_type": "stream",
     "text": [
      "1 2 3 3\n",
      "5 7 9 9\n",
      "11 15 17 19 19\n"
     ]
    }
   ],
   "source": [
    "mat=[[1,2,3],\n",
    "     [5,7,9],\n",
    "     [11,15,17,19]]\n",
    "for ls in mat:\n",
    "    for i in ls:\n",
    "        print(i,end=\" \")\n",
    "    print(i)\n",
    "\n",
    "\n"
   ]
  },
  {
   "cell_type": "code",
   "execution_count": null,
   "id": "202835c0-18a7-4cb4-afaf-fc50bc2969cf",
   "metadata": {},
   "outputs": [],
   "source": [
    "def addtolist(listcontainer):\n",
    "    listcontainer +=[10]\n",
    "mylistcontainer =[10,20,30,40]\n"
   ]
  },
  {
   "cell_type": "code",
   "execution_count": 35,
   "id": "d45cd617-2d46-4fdf-bf03-f6143c150c4b",
   "metadata": {},
   "outputs": [
    {
     "name": "stdout",
     "output_type": "stream",
     "text": [
      "['code', 'quiz', 'practice', 'contribute']\n",
      "['code', 'quiz', 'practice', 'contribute']\n",
      "['learn', 'Mcq', 'practice', 'contribute']\n"
     ]
    }
   ],
   "source": [
    "check1=[\"learn\",\"quiz\",\"practice\",\"contribute\"]\n",
    "check2= check1\n",
    "check3=check1[:]\n",
    "\n",
    "check2[0]=\"code\"\n",
    "check3[1]=\"Mcq\"\n",
    "\n",
    "count=0\n",
    "for c in(check1,check2,check3):\n",
    "    print(c)\n",
    "    if c[0] == \"code\":\n",
    "        count+=1\n",
    "    if c[1] == \"Mcq\":\n",
    "        count+=10\n",
    "    \n"
   ]
  },
  {
   "cell_type": "code",
   "execution_count": 7,
   "id": "9b78c427-7a19-45c6-beff-e671bfa0bba3",
   "metadata": {},
   "outputs": [
    {
     "name": "stdout",
     "output_type": "stream",
     "text": [
      "code\n",
      "practice\n",
      "quiz\n",
      "geeks\n",
      "edoc ecitcarp ziuq skeeg \n"
     ]
    }
   ],
   "source": [
    "s= \"code practice quiz geeks\"\n",
    "ns=\"\"\n",
    "for st in s.split():\n",
    "    print(st)\n",
    "    ns+=st[-1::-1]+\" \"\n",
    "print(ns)\n",
    "    \n",
    "\n",
    "\n",
    "    \n",
    "    \n",
    "\n",
    "\n",
    "\n"
   ]
  },
  {
   "cell_type": "code",
   "execution_count": 13,
   "id": "7ffa0600-4f3c-4a80-9bdf-a788d92dda9c",
   "metadata": {},
   "outputs": [
    {
     "data": {
      "text/plain": [
       "'edoc ecitcarp ziuq skeeg'"
      ]
     },
     "execution_count": 13,
     "metadata": {},
     "output_type": "execute_result"
    }
   ],
   "source": [
    "s= \"code practice quiz geeks\"\n",
    "ns=\"\"\n",
    "\" \".join(list(map(lambda st: st[-1::-1],s.split())))\n"
   ]
  },
  {
   "cell_type": "code",
   "execution_count": 28,
   "id": "1db62e76-4d4c-4941-9547-e0ed2e6079af",
   "metadata": {},
   "outputs": [
    {
     "name": "stdout",
     "output_type": "stream",
     "text": [
      "avg is marti800 is 20 km\n",
      "avg is corolla is 15 miles\n"
     ]
    }
   ],
   "source": [
    "#OOPS[object oriented programings]\n",
    "class car():\n",
    "    wheel=4\n",
    "    window=5\n",
    "    def __init__(self,model):#construction\n",
    "        self.model = model#instance variable\n",
    "    def milage(self,n,unit):#method\n",
    "        print(\"avg is {2} is {0} {1}\".format(n,unit,self.model)) \n",
    "suzuki =car(\"marti800\")\n",
    "suzuki .milage(20,\"km\")\n",
    "suzuki1=car(\"lexus\")\n",
    "toyata = car(\"corolla\")\n",
    "toyata.milage(15,\"miles\")\n",
    "\n",
    "\n",
    "  \n"
   ]
  },
  {
   "cell_type": "code",
   "execution_count": 35,
   "id": "942d6746-9336-4e9c-94a5-d74da8d84d64",
   "metadata": {},
   "outputs": [
    {
     "name": "stdout",
     "output_type": "stream",
     "text": [
      "avg is marti800 is 20 km\n",
      "avg is lexus is 30 km\n",
      "avg is corolla is 15 miles\n",
      "220km/hr\n"
     ]
    }
   ],
   "source": [
    "class car():\n",
    "    wheel=4\n",
    "    window=5\n",
    "    def __init__(self,model=\"none\"):#constructor\n",
    "        self.model = model#instance variable\n",
    "    def milage(self,n,unit):#method\n",
    "        print(\"avg is {2} is {0} {1}\".format(n,unit,self.model)) \n",
    "    @staticmethod\n",
    "    def topSpeed():\n",
    "        print(\"220km/hr\")\n",
    "suzuki =car(\"marti800\")\n",
    "suzuki .milage(20,\"km\")\n",
    "suzuki1=car(\"lexus\")\n",
    "suzuki1.milage(30,\"km\")\n",
    "toyata = car(\"corolla\")\n",
    "toyata.milage(15,\"miles\")\n",
    "\n",
    "hundai =car()\n",
    "car.wheel ##class variable\n",
    "suzuki.model ##objective instance variable\n",
    "suzuki.wheel\n",
    "car.topSpeed()##static method\n",
    "\n",
    "  "
   ]
  },
  {
   "cell_type": "code",
   "execution_count": 42,
   "id": "ce1d39cb-ef07-4344-8ac3-c6d069e10f22",
   "metadata": {},
   "outputs": [
    {
     "ename": "SyntaxError",
     "evalue": "invalid syntax (1716793689.py, line 14)",
     "output_type": "error",
     "traceback": [
      "\u001b[1;36m  Cell \u001b[1;32mIn[42], line 14\u001b[1;36m\u001b[0m\n\u001b[1;33m    def__init__(self,model,issunroof):\u001b[0m\n\u001b[1;37m                                     ^\u001b[0m\n\u001b[1;31mSyntaxError\u001b[0m\u001b[1;31m:\u001b[0m invalid syntax\n"
     ]
    }
   ],
   "source": [
    "#INHERITANCE\n",
    "#single heritance\n",
    "class car():\n",
    "    wheel=4\n",
    "    window=5\n",
    "    def __init__(self,model=\"none\"):#constructor\n",
    "        self.model = model#instance variable\n",
    "    def milage(self,n,unit):#method\n",
    "        print(\"avg is {2} is {0} {1}\".format(n,unit,self.model)) \n",
    "    @staticmethod\n",
    "    def topSpeed():\n",
    "        print(\"220km/hr\")\n",
    "\n",
    "class toyata(car):\n",
    "    def__init__(self,model,issunroof):\n",
    "         self sunroof=issunrooof\n",
    "         car.__init__(srlf,model)\n",
    "\n",
    "fortuner = toyata(\"fortuner\",True)\n",
    "fortuner.milage(22,\"km\")\n",
    "    "
   ]
  },
  {
   "cell_type": "code",
   "execution_count": 50,
   "id": "8c51e3ce-895e-4f72-a2ab-a4f43895bb12",
   "metadata": {},
   "outputs": [
    {
     "ename": "NameError",
     "evalue": "name 'dell' is not defined",
     "output_type": "error",
     "traceback": [
      "\u001b[1;31m---------------------------------------------------------------------------\u001b[0m",
      "\u001b[1;31mNameError\u001b[0m                                 Traceback (most recent call last)",
      "Cell \u001b[1;32mIn[50], line 13\u001b[0m\n\u001b[0;32m     11\u001b[0m     \u001b[38;5;28;01mdef\u001b[39;00m \u001b[38;5;21m__init__\u001b[39m(\u001b[38;5;28mself\u001b[39m):\n\u001b[0;32m     12\u001b[0m         Laptop\u001b[38;5;241m.\u001b[39m\u001b[38;5;21m__init__\u001b[39m(\u001b[38;5;28mself\u001b[39m)\n\u001b[1;32m---> 13\u001b[0m \u001b[38;5;28;01mclass\u001b[39;00m \u001b[38;5;21;01mLatitude\u001b[39;00m(\u001b[43mdell\u001b[49m):\n\u001b[0;32m     14\u001b[0m     processor \u001b[38;5;241m=\u001b[39m \u001b[38;5;124m\"\u001b[39m\u001b[38;5;124mi5\u001b[39m\u001b[38;5;124m\"\u001b[39m\n\u001b[0;32m     15\u001b[0m     \u001b[38;5;28;01mdef\u001b[39;00m \u001b[38;5;21m__init__\u001b[39m(\u001b[38;5;28mself\u001b[39m):\n",
      "\u001b[1;31mNameError\u001b[0m: name 'dell' is not defined"
     ]
    }
   ],
   "source": [
    "#multi level heritance\n",
    "class laptop():\n",
    "    ram=8\n",
    "    rom=512\n",
    "    screen=16\n",
    "    def __init__(self):\n",
    "         pass\n",
    "\n",
    "class Dell(laptop):\n",
    "    colors=\"grey\"\n",
    "    def __init__(self):\n",
    "        Laptop.__init__(self)\n",
    "class Latitude(DELL):\n",
    "    processor = \"i5\"\n",
    "    def __init__(self):\n",
    "        dell.__init__(self)\n",
    "\n",
    "dell = DELL()\n",
    "dell.colors\n",
    "    \n",
    "    \n"
   ]
  },
  {
   "cell_type": "code",
   "execution_count": null,
   "id": "ed796225-838f-48f8-8b7c-9d960c07c8c6",
   "metadata": {},
   "outputs": [],
   "source": []
  }
 ],
 "metadata": {
  "kernelspec": {
   "display_name": "Python 3 (ipykernel)",
   "language": "python",
   "name": "python3"
  },
  "language_info": {
   "codemirror_mode": {
    "name": "ipython",
    "version": 3
   },
   "file_extension": ".py",
   "mimetype": "text/x-python",
   "name": "python",
   "nbconvert_exporter": "python",
   "pygments_lexer": "ipython3",
   "version": "3.12.1"
  }
 },
 "nbformat": 4,
 "nbformat_minor": 5
}
